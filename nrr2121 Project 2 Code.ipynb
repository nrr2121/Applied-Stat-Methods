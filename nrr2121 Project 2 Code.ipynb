{
 "cells": [
  {
   "cell_type": "markdown",
   "metadata": {},
   "source": [
    "# WEEK 3 BOMB PLACEMENTS"
   ]
  },
  {
   "cell_type": "markdown",
   "metadata": {},
   "source": [
    "## INSTRUCTIONS"
   ]
  },
  {
   "cell_type": "markdown",
   "metadata": {},
   "source": [
    "Each block of code in this section must be run to obtain te final answer. The data cleaning section formats the data to work properly with the regression models, and the bomb plan section runs functions to analyze the week 3 data and return two bomb placements. The final bomb placements appear below the cell labeled \"Final Answer.\" Be sure to adjust the directories for the week 3  data."
   ]
  },
  {
   "cell_type": "markdown",
   "metadata": {},
   "source": [
    "## DATA CLEANING"
   ]
  },
  {
   "cell_type": "markdown",
   "metadata": {},
   "source": [
    "#### Run this block to format the data for the first two weeks; necessary for regressions"
   ]
  },
  {
   "cell_type": "code",
   "execution_count": 1,
   "metadata": {},
   "outputs": [
    {
     "name": "stderr",
     "output_type": "stream",
     "text": [
      "rgdal: version: 1.4-4, (SVN revision 833)\n",
      " Geospatial Data Abstraction Library extensions to R successfully loaded\n",
      " Loaded GDAL runtime: GDAL 2.2.3, released 2017/11/20\n",
      " Path to GDAL shared files: C:/Users/nicho/anaconda3/envs/hw3/Lib/R/library/rgdal/gdal\n",
      " GDAL binary built with GEOS: TRUE \n",
      " Loaded PROJ.4 runtime: Rel. 4.9.3, 15 August 2016, [PJ_VERSION: 493]\n",
      " Path to PROJ.4 shared files: C:/Users/nicho/anaconda3/envs/hw3/Lib/R/library/rgdal/proj\n",
      " Linking to sp version: 1.3-1 \n",
      "Warning message:\n",
      "\"package 'fields' was built under R version 3.6.3\"Loading required package: spam\n",
      "Warning message:\n",
      "\"package 'spam' was built under R version 3.6.3\"Loading required package: dotCall64\n",
      "Warning message:\n",
      "\"package 'dotCall64' was built under R version 3.6.3\"Loading required package: grid\n",
      "Spam version 2.5-1 (2019-12-12) is loaded.\n",
      "Type 'help( Spam)' or 'demo( spam)' for a short introduction \n",
      "and overview of this package.\n",
      "Help for individual functions is also obtained by adding the\n",
      "suffix '.spam' to the function name, e.g. 'help( chol.spam)'.\n",
      "\n",
      "Attaching package: 'spam'\n",
      "\n",
      "The following objects are masked from 'package:base':\n",
      "\n",
      "    backsolve, forwardsolve\n",
      "\n",
      "See https://github.com/NCAR/Fields for\n",
      " an extensive vignette, other supplements and source code \n",
      "Warning message:\n",
      "\"package 'geojsonio' was built under R version 3.6.3\"\n",
      "Attaching package: 'geojsonio'\n",
      "\n",
      "The following object is masked from 'package:jsonlite':\n",
      "\n",
      "    validate\n",
      "\n",
      "The following object is masked from 'package:base':\n",
      "\n",
      "    pretty\n",
      "\n"
     ]
    }
   ],
   "source": [
    "library(jsonlite)\n",
    "#Loading Data\n",
    "data.1 <- read_json(\"gps/20200818114606.geojson\") #1 -- 8-18 // tuesday\n",
    "data.2 <- read_json(\"gps/20200819132607.geojson\") #2 -- 8-19 & 8-20 // wednesday & thursday\n",
    "data.3 <- read_json(\"gps/20200820151044.geojson\") #3 -- 8-20 & 8-21 // thursday & friday\n",
    "data.4 <- read_json(\"gps/20200821111447.geojson\") #4 -- 8-21 & 8-22 // friday & saturday\n",
    "data.5 <- read_json(\"gps/20200824130857.geojson\") #5 -- 8-24 // monday\n",
    "data.6 <- read_json(\"gps/20200825121346.geojson\") #6 -- 8-25 // tuesday\n",
    "data.7 <- read_json(\"gps/20200826131614.geojson\") #7 -- 8-26 & 8-27 // wednesday & thursday\n",
    "data.8 <- read_json(\"gps/20200827113234.geojson\") #8 -- 8-27 // thursday\n",
    "data.9 <- read_json(\"gps/20200828122627.geojson\") #9 -- 8-28 // friday\n",
    "data.10 <- read_json(\"gps/20200828130816.geojson\") #10 -- 8-28 // friday\n",
    "data.11 <- read_json(\"gps/20200831115147.geojson\") #11 -- 8-31 // monday\n",
    "\n",
    "#Manipulating into data frames\n",
    "data.clean <- function(data){\n",
    "    temp.df <- data.frame(latitude = rep(NA, length(data[[\"features\"]])), longitude = rep(NA, length(data[[\"features\"]])), time = rep(NA, length(data[[\"features\"]])))\n",
    "\n",
    "    for (i in 1:length(data[[\"features\"]])){\n",
    "        temp.df[i,\"latitude\"] <- data[[\"features\"]][[i]][[\"geometry\"]][[\"coordinates\"]][[2]]\n",
    "        temp.df[i,\"longitude\"] <- data[[\"features\"]][[i]][[\"geometry\"]][[\"coordinates\"]][[1]]\n",
    "        temp.df[i,\"time\"] <- data[[\"features\"]][[i]][[\"properties\"]][[\"time\"]]\n",
    "\n",
    "    }\n",
    "    tform <- strptime(temp.df$time, \"%Y-%m-%dT%H:%M:%S\")\n",
    "    \n",
    "    full <- as.POSIXct(tform, format = \"%Y-%m-%d%H:%M:%S\", tz = \"us/mountain\") - 2*60*60\n",
    "    temp.df <- cbind(temp.df, data.frame(time.full = full))\n",
    "    \n",
    "    reduced <- as.numeric(format(tform, \"%H\")) + (as.numeric(format(tform, \"%M\"))/60) + (as.numeric(format(tform, \"%S\"))/(60*60)) - 2\n",
    "    temp.df <- cbind(temp.df, data.frame(time.reduced = reduced))\n",
    "    \n",
    "    hour <- as.integer(as.numeric(format(tform, \"%H\"))) - 2\n",
    "    temp.df <- cbind(temp.df, data.frame(hour = hour))\n",
    "    \n",
    "    dupes <- duplicated(temp.df$latitude) & duplicated(temp.df$longitude)\n",
    "    temp.df.clean <- temp.df[!dupes,]\n",
    "    return(temp.df.clean)\n",
    "    \n",
    "}\n",
    "\n",
    "df.1 <- data.clean(data.1)\n",
    "df.2 <- data.clean(data.2)\n",
    "df.3 <- data.clean(data.3)\n",
    "df.4 <- data.clean(data.4)\n",
    "df.5 <- data.clean(data.5)\n",
    "df.6 <- data.clean(data.6)\n",
    "df.7 <- data.clean(data.7)\n",
    "df.8 <- data.clean(data.8)\n",
    "df.9 <- data.clean(data.9)\n",
    "df.10 <- data.clean(data.10)\n",
    "df.11 <- data.clean(data.11)\n",
    "\n",
    "#Pull Weather Data\n",
    "weather <- read.csv(\"weather data.csv\", header = T)[1:15,]\n",
    "weather$date.form <- strptime(weather$DATE, \"%m/%d/%Y\")\n",
    "get.weather <- function(df){\n",
    "    wvec <- rep(NA, nrow(df))\n",
    "    \n",
    "    for(i in 1:nrow(df)){\n",
    "        wrow <- which(strptime(df$time.full[1], format = \"%Y-%m-%d\") == weather$date.form)\n",
    "         wvec[i] <- weather[wrow, \"TAVG\"]\n",
    "         \n",
    "    }\n",
    "    df.new <- cbind(df, data.frame(temp = wvec))\n",
    "    return(df.new)\n",
    "}\n",
    "\n",
    "df.1.weather <- get.weather(df.1)\n",
    "df.2.weather <- get.weather(df.2)\n",
    "df.3.weather <- get.weather(df.3)\n",
    "df.4.weather <- get.weather(df.4)\n",
    "df.5.weather <- get.weather(df.5)\n",
    "df.6.weather <- get.weather(df.6)\n",
    "df.7.weather <- get.weather(df.7)\n",
    "df.8.weather <- get.weather(df.8)\n",
    "df.9.weather <- get.weather(df.9)\n",
    "df.10.weather <- get.weather(df.10)\n",
    "df.11.weather <- get.weather(df.11)\n",
    "\n",
    "sortdf <- function(df){\n",
    "    return(df[order(df$time.full),])\n",
    "}\n",
    "\n",
    "#Sort by time\n",
    "df.1.sort <- sortdf(df.1.weather)\n",
    "df.2.sort <- sortdf(df.2.weather)\n",
    "df.3.sort <- sortdf(df.3.weather)\n",
    "df.4.sort <- sortdf(df.4.weather)\n",
    "df.5.sort <- sortdf(df.5.weather)\n",
    "df.6.sort <- sortdf(df.6.weather)\n",
    "df.7.sort <- sortdf(df.7.weather)\n",
    "df.8.sort <- sortdf(df.8.weather)\n",
    "df.9.sort <- sortdf(df.9.weather)\n",
    "df.10.sort <- sortdf(df.10.weather)\n",
    "df.11.sort <- sortdf(df.11.weather)\n",
    "\n",
    "epochtime <- function(df){\n",
    "    etime <- as.integer(as.POSIXct(df[,\"time.full\"]))\n",
    "    etime.df <- data.frame(time.epoch = etime)\n",
    "    return(cbind(df, etime.df))\n",
    "}\n",
    "\n",
    "#Extract epoch time\n",
    "\n",
    "df.1.etime <- epochtime(df.1.sort)\n",
    "df.2.etime <- epochtime(df.2.sort)\n",
    "df.3.etime <- epochtime(df.3.sort)\n",
    "df.4.etime <- epochtime(df.4.sort)\n",
    "df.5.etime <- epochtime(df.5.sort)\n",
    "df.6.etime <- epochtime(df.6.sort)\n",
    "df.7.etime <- epochtime(df.7.sort)\n",
    "df.8.etime <- epochtime(df.8.sort)\n",
    "df.9.etime <- epochtime(df.9.sort)\n",
    "df.10.etime <- epochtime(df.10.sort)\n",
    "df.11.etime <- epochtime(df.11.sort)\n",
    "\n",
    "getduration <- function(df){\n",
    "    \n",
    "#     duration <- (df[,\"time.reduced\"] - df[1,\"time.reduced\"])*(30*120)\n",
    "    duration <- df[,\"time.epoch\"] - df[1,\"time.epoch\"]\n",
    "    duration.df <- data.frame(duration = duration)\n",
    "    return(cbind(df, duration.df))\n",
    "    \n",
    "}\n",
    "\n",
    "#Get duration of walk\n",
    "\n",
    "df.1.duration <- getduration(df.1.etime)\n",
    "df.2.duration <- getduration(df.2.etime)\n",
    "df.3.duration <- getduration(df.3.etime)\n",
    "df.4.duration <- getduration(df.4.etime)\n",
    "df.5.duration <- getduration(df.5.etime)\n",
    "df.6.duration <- getduration(df.6.etime)\n",
    "df.7.duration <- getduration(df.7.etime)\n",
    "df.8.duration <- getduration(df.8.etime)\n",
    "df.9.duration <- getduration(df.9.etime)\n",
    "df.10.duration <- getduration(df.10.etime)\n",
    "df.11.duration <- getduration(df.11.etime)\n",
    "\n",
    "time.dif <- function(time){\n",
    "#     time.format <- strptime(time, \"%Y-%m-%dT%H:%M:%S\")\n",
    "#     time.sort <- sort(as.POSIXct(time.format, format = \"%Y-%m-%d%H:%M:%S\"))\n",
    "    time.sort <- sort(time)\n",
    "    \n",
    "    i <- 1:(length(time.sort) - 1)\n",
    "    tdvec <- time.sort[i+1] - time.sort[i]\n",
    "    \n",
    "    return(as.numeric(tdvec))\n",
    "}\n",
    "\n",
    "#Create vector of time between data collection\n",
    "\n",
    "timedif.1 <- time.dif(df.1.duration$time.full)\n",
    "timedif.2 <- time.dif(df.2.duration$time.full)\n",
    "timedif.3 <- time.dif(df.3.duration$time.full)\n",
    "timedif.4 <- time.dif(df.4.duration$time.full)\n",
    "timedif.5 <- time.dif(df.5.duration$time.full)\n",
    "timedif.6 <- time.dif(df.6.duration$time.full)\n",
    "timedif.7 <- time.dif(df.7.duration$time.full)\n",
    "timedif.8 <- time.dif(df.8.duration$time.full)\n",
    "timedif.9 <- time.dif(df.9.duration$time.full)\n",
    "timedif.10 <- time.dif(df.10.duration$time.full)\n",
    "timedif.11 <- time.dif(df.11.duration$time.full)\n",
    "\n",
    "library(sp)\n",
    "library(rgdal)\n",
    "\n",
    "coords <- function(df){\n",
    "    spat_df <- SpatialPointsDataFrame(coords=df[, c(\"longitude\", \"latitude\")],\n",
    "                                      data= as.data.frame(df[, \"time\"]),\n",
    "                                      proj4string=CRS(\"+proj=longlat +datum=WGS84\"))\n",
    "    utm_df <- spTransform(spat_df, CRSobj = \"+proj=utm +zone=12 +datum=WGS84\")\n",
    "    utm_coords <- coordinates(utm_df)\n",
    "    \n",
    "    return(utm_coords)\n",
    "}\n",
    "\n",
    "#Create coordinate data frames\n",
    "\n",
    "coords.1 <- coords(df.1.duration)\n",
    "coords.2 <- coords(df.2.duration)\n",
    "coords.3 <- coords(df.3.duration)\n",
    "coords.4 <- coords(df.4.duration)\n",
    "coords.5 <- coords(df.5.duration)\n",
    "coords.6 <- coords(df.6.duration)\n",
    "coords.7 <- coords(df.7.duration)\n",
    "coords.8 <- coords(df.8.duration)\n",
    "coords.9 <- coords(df.9.duration)\n",
    "coords.10 <- coords(df.10.duration)\n",
    "coords.11 <- coords(df.11.duration)\n",
    "\n",
    "# Append starting longitude and lattitude\n",
    "\n",
    "df.1.duration$start.long <- coords.1[1,\"longitude\"]\n",
    "df.1.duration$start.lat <- coords.1[1,\"latitude\"]\n",
    "\n",
    "df.2.duration$start.long <- coords.2[1,\"longitude\"]\n",
    "df.2.duration$start.lat <- coords.2[1,\"latitude\"]\n",
    "\n",
    "df.3.duration$start.long <- coords.3[1,\"longitude\"]\n",
    "df.3.duration$start.lat <- coords.3[1,\"latitude\"]\n",
    "\n",
    "df.4.duration$start.long <- coords.4[1,\"longitude\"]\n",
    "df.4.duration$start.lat <- coords.4[1,\"latitude\"]\n",
    "\n",
    "df.5.duration$start.long <- coords.5[1,\"longitude\"]\n",
    "df.5.duration$start.lat <- coords.5[1,\"latitude\"]\n",
    "\n",
    "df.6.duration$start.long <- coords.6[1,\"longitude\"]\n",
    "df.6.duration$start.lat <- coords.6[1,\"latitude\"]\n",
    "\n",
    "df.7.duration$start.long <- coords.7[1,\"longitude\"]\n",
    "df.7.duration$start.lat <- coords.7[1,\"latitude\"]\n",
    "\n",
    "df.8.duration$start.long <- coords.8[1,\"longitude\"]\n",
    "df.8.duration$start.lat <- coords.8[1,\"latitude\"]\n",
    "\n",
    "df.9.duration$start.long <- coords.9[1,\"longitude\"]\n",
    "df.9.duration$start.lat <- coords.9[1,\"latitude\"]\n",
    "\n",
    "df.10.duration$start.long <- coords.10[1,\"longitude\"]\n",
    "df.10.duration$start.lat <- coords.10[1,\"latitude\"]\n",
    "\n",
    "df.11.duration$start.long <- coords.11[1,\"longitude\"]\n",
    "df.11.duration$start.lat <- coords.11[1,\"latitude\"]\n",
    "\n",
    "library(dlm)\n",
    "\n",
    "\n",
    "dlmfs <- function(coords, times){\n",
    "    gps_variance <- 20^2 #Using wide variance\n",
    "    \n",
    "    v_mat <- matrix(c(gps_variance, 0, 0, gps_variance), ncol=2)\n",
    "    dt <- mean(times[times < 60])\n",
    "    \n",
    "    g_mat <- matrix(c(1, 0, dt, 0,\n",
    "                      0, 1, 0, dt,\n",
    "                      0, 0, 1, 0,\n",
    "                      0, 0, 0, 1), byrow=TRUE, ncol=4)\n",
    "    \n",
    "    f_mat <- matrix(c(1, 0, dt, 0,\n",
    "                      0, 1, 0, dt), byrow=TRUE, ncol=4)\n",
    "    \n",
    "    avg_walk_speed_m_per_sec <- 1.4  # https://en.wikipedia.org/wiki/Walking\n",
    "    \n",
    "    dlm_spec <- dlm(\n",
    "        FF= f_mat,\n",
    "        GG= g_mat,\n",
    "        V = v_mat,\n",
    "        W = diag(c(5, 5, 1, 1)^2), #Wide intervals again\n",
    "        m0 = matrix(c(coords[1, ], rep(avg_walk_speed_m_per_sec / dt, 2)),\n",
    "                    ncol=1), \n",
    "        C0 = diag(rep(10^2, 4)))\n",
    "    \n",
    "    dlm_filter_mod <- dlmFilter(coords, dlm_spec)\n",
    "    dlm_smooth_mod <- dlmSmooth(dlm_filter_mod)\n",
    "    \n",
    "    return(list(\"filter\" = dlm_filter_mod, \"smoother\" = dlm_smooth_mod))\n",
    "\n",
    "}\n",
    "\n",
    "#Create DLM\n",
    "\n",
    "dlm.1 <- dlmfs(coords.1, timedif.1)\n",
    "dlm.2 <- dlmfs(coords.2, timedif.2)\n",
    "dlm.3 <- dlmfs(coords.3, timedif.3)\n",
    "dlm.4 <- dlmfs(coords.4, timedif.4)\n",
    "dlm.5 <- dlmfs(coords.5, timedif.5)\n",
    "dlm.6 <- dlmfs(coords.6, timedif.6)\n",
    "dlm.7 <- dlmfs(coords.7, timedif.7)\n",
    "dlm.8 <- dlmfs(coords.8, timedif.8)\n",
    "dlm.9 <- dlmfs(coords.9, timedif.9)\n",
    "dlm.10 <- dlmfs(coords.10, timedif.10)\n",
    "dlm.11 <- dlmfs(coords.11, timedif.11)\n",
    "\n",
    "library(fields)\n",
    "\n",
    "#Extract longitude and latitude velocities from smoother; convert them into speeds; take the average speed for each walk;\n",
    "#remove outliers; calculate the distance between each point and the starting point\n",
    "df.1.duration$long.vel <- dlm.1$smoother$s[-1, 3]\n",
    "df.1.duration$lat.vel <- dlm.1$smoother$s[-1, 4]\n",
    "df.1.duration$speed <- sqrt(df.1.duration$long.vel^2 + df.1.duration$lat.vel^2)\n",
    "df.1.duration$speed.avg <- mean(df.1.duration$speed[1:78])\n",
    "df.1.duration$distance <- as.vector(rdist.earth(df.1.duration[1, c(\"longitude\", \"latitude\")],\n",
    "                                                df.1.duration[, c(\"longitude\", \"latitude\")]))\n",
    "\n",
    "df.2.duration$long.vel <- dlm.2$smoother$s[-1, 3]\n",
    "df.2.duration$lat.vel <- dlm.2$smoother$s[-1, 4]\n",
    "df.2.duration$speed <- sqrt(df.2.duration$long.vel^2 + df.2.duration$lat.vel^2)\n",
    "df.2.duration$speed.avg <- mean(df.2.duration$speed)\n",
    "df.2.duration$distance <- as.vector(rdist.earth(df.2[1, c(\"longitude\", \"latitude\")],\n",
    "                                                df.2[, c(\"longitude\", \"latitude\")]))\n",
    "\n",
    "\n",
    "df.3.duration$long.vel <- dlm.3$smoother$s[-1, 3]\n",
    "df.3.duration$lat.vel <- dlm.3$smoother$s[-1, 4]\n",
    "df.3.duration$speed <- sqrt(df.3.duration$long.vel^2 + df.3.duration$lat.vel^2)\n",
    "df.3.duration$speed.avg <- mean(df.3.duration$speed)\n",
    "df.3.duration$distance <- as.vector(rdist.earth(df.3[1, c(\"longitude\", \"latitude\")],\n",
    "                                                df.3[, c(\"longitude\", \"latitude\")]))\n",
    "\n",
    "\n",
    "df.4.duration$long.vel <- dlm.4$smoother$s[-1, 3]\n",
    "df.4.duration$lat.vel <- dlm.4$smoother$s[-1, 4]\n",
    "df.4.duration$speed <- sqrt(df.4.duration$long.vel^2 + df.4.duration$lat.vel^2)\n",
    "df.4.duration$speed.avg <- mean(df.4.duration$speed)\n",
    "df.4.duration$distance <- as.vector(rdist.earth(df.4.duration[1, c(\"longitude\", \"latitude\")],\n",
    "                                                df.4.duration[, c(\"longitude\", \"latitude\")]))\n",
    "\n",
    "\n",
    "df.5.duration$long.vel <- dlm.5$smoother$s[-1, 3]\n",
    "df.5.duration$lat.vel <- dlm.5$smoother$s[-1, 4]\n",
    "df.5.duration$speed <- sqrt(df.5.duration$long.vel^2 + df.5.duration$lat.vel^2)\n",
    "df.5.duration$speed.avg <- mean(df.5.duration$speed)\n",
    "df.5.duration$distance <- as.vector(rdist.earth(df.5.duration[1, c(\"longitude\", \"latitude\")],\n",
    "                                                df.5.duration[, c(\"longitude\", \"latitude\")]))\n",
    "\n",
    "\n",
    "df.6.duration$long.vel <- dlm.6$smoother$s[-1, 3]\n",
    "df.6.duration$lat.vel <- dlm.6$smoother$s[-1, 4]\n",
    "df.6.duration$speed <- sqrt(df.6.duration$long.vel^2 + df.6.duration$lat.vel^2)\n",
    "df.6.duration$speed.avg <- mean(df.6.duration$speed)\n",
    "df.6.duration$distance <- as.vector(rdist.earth(df.6.duration[1, c(\"longitude\", \"latitude\")],\n",
    "                                                df.6.duration[, c(\"longitude\", \"latitude\")]))\n",
    "\n",
    "\n",
    "df.7.duration$long.vel <- dlm.7$smoother$s[-1, 3]\n",
    "df.7.duration$lat.vel <- dlm.7$smoother$s[-1, 4]\n",
    "df.7.duration$speed <- sqrt(df.7.duration$long.vel^2 + df.7.duration$lat.vel^2)\n",
    "df.7.duration$speed.avg <- mean(df.7.duration$speed[1:703])\n",
    "df.7.duration$distance <- as.vector(rdist.earth(df.7.duration[1, c(\"longitude\", \"latitude\")],\n",
    "                                                df.7.duration[, c(\"longitude\", \"latitude\")]))\n",
    "\n",
    "\n",
    "df.8.duration$long.vel <- dlm.8$smoother$s[-1, 3]\n",
    "df.8.duration$lat.vel <- dlm.8$smoother$s[-1, 4]\n",
    "df.8.duration$speed <- sqrt(df.8.duration$long.vel^2 + df.8.duration$lat.vel^2)\n",
    "df.8.duration$speed.avg <- mean(df.8.duration$speed)\n",
    "df.8.duration$distance <- as.vector(rdist.earth(df.8.duration[1, c(\"longitude\", \"latitude\")],\n",
    "                                                df.8.duration[, c(\"longitude\", \"latitude\")]))\n",
    "\n",
    "\n",
    "df.9.duration$long.vel <- dlm.9$smoother$s[-1, 3]\n",
    "df.9.duration$lat.vel <- dlm.9$smoother$s[-1, 4]\n",
    "df.9.duration$speed <- sqrt(df.9.duration$long.vel^2 + df.9.duration$lat.vel^2)\n",
    "df.9.duration$speed.avg <- mean(df.9.duration$speed)\n",
    "df.9.duration$distance <- as.vector(rdist.earth(df.9.duration[1, c(\"longitude\", \"latitude\")],\n",
    "                                                df.9.duration[, c(\"longitude\", \"latitude\")]))\n",
    "\n",
    "\n",
    "df.10.duration$long.vel <- dlm.10$smoother$s[-1, 3]\n",
    "df.10.duration$lat.vel <- dlm.10$smoother$s[-1, 4]\n",
    "df.10.duration$speed <- sqrt(df.10.duration$long.vel^2 + df.10.duration$lat.vel^2)\n",
    "df.10.duration$speed.avg <- mean(df.10.duration$speed)\n",
    "df.10.duration$distance <- as.vector(rdist.earth(df.10.duration[1, c(\"longitude\", \"latitude\")],\n",
    "                                                df.10.duration[, c(\"longitude\", \"latitude\")]))\n",
    "\n",
    "\n",
    "df.11.duration$long.vel <- dlm.11$smoother$s[-1, 3]\n",
    "df.11.duration$lat.vel <- dlm.11$smoother$s[-1, 4]\n",
    "df.11.duration$speed <- sqrt(df.11.duration$long.vel^2 + df.11.duration$lat.vel^2)\n",
    "df.11.duration$speed.avg <- mean(df.11.duration$speed[c(1:349, 461:765)])\n",
    "df.11.duration$distance <- as.vector(rdist.earth(df.11.duration[1, c(\"longitude\", \"latitude\")],\n",
    "                                                df.11.duration[, c(\"longitude\", \"latitude\")]))\n",
    "\n",
    "split.df <- function(df, coords){\n",
    "    df.out <- df[df$duration < 4000, ]\n",
    "    coords.out <- coords[df$duration < 4000, ]\n",
    "    \n",
    "    df.in <- df[df$duration > 11000, ]\n",
    "    df.in$duration <- df.in$duration - df.in$duration[1]\n",
    "    coords.in <- coords[df$duration > 11000, ]\n",
    "    \n",
    "    ldf <- list(df.out = df.out, coords.out = coords.out, df.in = df.in, coords.in = coords.in)\n",
    "    \n",
    "}\n",
    "\n",
    "#Split each data frame into outbound and inbound trips\n",
    "df.1.out <- split.df(df.1.duration, coords.1)$df.out\n",
    "coords.1.out <- split.df(df.1.duration, coords.1)$coords.out\n",
    "df.1.in <- split.df(df.1.duration, coords.1)$df.in\n",
    "coords.1.in <- split.df(df.1.duration, coords.1)$coords.in\n",
    "\n",
    "df.2.out <- split.df(df.2.duration, coords.2)$df.out\n",
    "coords.2.out <- split.df(df.2.duration, coords.2)$coords.out\n",
    "df.2.in <- split.df(df.2.duration, coords.2)$df.in\n",
    "coords.2.in <- split.df(df.2.duration, coords.2)$coords.in\n",
    "\n",
    "df.3.out <- split.df(df.3.duration, coords.3)$df.out\n",
    "coords.3.out <- split.df(df.3.duration, coords.3)$coords.out\n",
    "df.3.in <- split.df(df.3.duration, coords.3)$df.in\n",
    "coords.3.in <- split.df(df.3.duration, coords.3)$coords.in\n",
    "\n",
    "df.4.out <- split.df(df.4.duration, coords.4)$df.out\n",
    "coords.4.out <- split.df(df.4.duration, coords.4)$coords.out\n",
    "df.4.in <- split.df(df.4.duration, coords.4)$df.in\n",
    "coords.4.in <- split.df(df.4.duration, coords.4)$coords.in\n",
    "\n",
    "df.5.out <- split.df(df.5.duration, coords.5)$df.out\n",
    "coords.5.out <- split.df(df.5.duration, coords.5)$coords.out\n",
    "df.5.in <- split.df(df.5.duration, coords.5)$df.in\n",
    "coords.5.in <- split.df(df.5.duration, coords.5)$coords.in\n",
    "\n",
    "df.6.out <- split.df(df.6.duration, coords.6)$df.out\n",
    "coords.6.out <- split.df(df.6.duration, coords.6)$coords.out\n",
    "df.6.in <- split.df(df.6.duration, coords.6)$df.in\n",
    "coords.6.in <- split.df(df.6.duration, coords.6)$coords.in\n",
    "\n",
    "df.7.out <- split.df(df.7.duration, coords.7)$df.out\n",
    "coords.7.out <- split.df(df.7.duration, coords.7)$coords.out\n",
    "df.7.in <- split.df(df.7.duration, coords.7)$df.in\n",
    "coords.7.in <- split.df(df.7.duration, coords.7)$coords.in\n",
    "coords.7.in <- coords.7.in[df.7.in$duration < 15000,]\n",
    "df.7.in <- df.7.in[df.7.in$duration < 15000,]\n",
    "\n",
    "df.8.out <- split.df(df.8.duration, coords.8)$df.out\n",
    "coords.8.out <- split.df(df.8.duration, coords.8)$coords.out\n",
    "df.8.in <- split.df(df.8.duration, coords.8)$df.in\n",
    "coords.8.in <- split.df(df.8.duration, coords.8)$coords.in\n",
    "\n",
    "df.9.out <- split.df(df.9.duration, coords.9)$df.out\n",
    "coords.9.out <- split.df(df.9.duration, coords.9)$coords.out\n",
    "df.9.in <- split.df(df.9.duration, coords.9)$df.in\n",
    "coords.9.in <- split.df(df.9.duration, coords.9)$coords.in\n",
    "\n",
    "df.10.out <- split.df(df.10.duration, coords.10)$df.out\n",
    "coords.10.out <- split.df(df.10.duration, coords.10)$coords.out\n",
    "df.10.in <- split.df(df.10.duration, coords.10)$df.in\n",
    "coords.10.in <- split.df(df.10.duration, coords.10)$coords.in\n",
    "\n",
    "df.11.out <- split.df(df.11.duration, coords.11)$df.out\n",
    "coords.11.out <- split.df(df.11.duration, coords.11)$coords.out\n",
    "df.11.in <- split.df(df.11.duration, coords.11)$df.in\n",
    "coords.11.in <- split.df(df.11.duration, coords.11)$coords.in\n",
    "\n",
    "df.full.out <- rbind(df.1.out,\n",
    "                    df.2.out,\n",
    "                    df.3.out,\n",
    "                    df.4.out,\n",
    "                    df.5.out,\n",
    "                    df.6.out,\n",
    "                    df.7.out,\n",
    "                    df.8.out,\n",
    "                    df.9.out,\n",
    "                    df.11.out) #dropped 10 because it's only inbound data\n",
    "rownames(df.full.out) <- 1:nrow(df.full.out)\n",
    "\n",
    "\n",
    "coords.full.out <- rbind(coords.1.out,\n",
    "                        coords.2.out,\n",
    "                        coords.3.out,\n",
    "                        coords.4.out,\n",
    "                        coords.5.out,\n",
    "                        coords.6.out,\n",
    "                        coords.7.out,\n",
    "                        coords.8.out,\n",
    "                        coords.9.out,\n",
    "                        coords.11.out)\n",
    "rownames(coords.full.out) <- 1:nrow(coords.full.out)\n",
    "\n",
    "\n",
    "df.full.in <- rbind(df.2.in,\n",
    "                   df.3.in,\n",
    "                   df.4.in,\n",
    "                   df.5.in,\n",
    "                   df.6.in,\n",
    "                   df.7.in,\n",
    "                   df.8.in,\n",
    "                   df.10.in,\n",
    "                   df.11.in) # dropped 1 and 9 for not containing sufficient inbound data\n",
    "rownames(df.full.in) <- 1:nrow(df.full.in)\n",
    "\n",
    "\n",
    "coords.full.in <- rbind(coords.2.in,\n",
    "                       coords.3.in,\n",
    "                       coords.4.in,\n",
    "                       coords.5.in,\n",
    "                       coords.6.in,\n",
    "                       coords.7.in,\n",
    "                       coords.8.in,\n",
    "                       coords.10.in,\n",
    "                       coords.11.in) \n",
    "rownames(coords.full.in) <- 1:nrow(coords.full.in)\n",
    "\n",
    "#Create a data frame of just the first point ftom each outbound trip\n",
    "df.first.out <- rbind(df.1.out[1,],\n",
    "                      df.2.out[1,],\n",
    "                      df.3.out[1,],\n",
    "                      df.4.out[1,],\n",
    "                      df.5.out[1,],\n",
    "                      df.6.out[1,],\n",
    "                      df.7.out[1,],\n",
    "                      df.8.out[1,],\n",
    "                      df.9.out[1,],\n",
    "                      df.11.out[1,])\n",
    "\n",
    "\n",
    "remove5 <- function(df){\n",
    "    i <- 2\n",
    "    while ((df[i, \"time.reduced\"] - df[1, \"time.reduced\"]) < 0.0833333333333333){\n",
    "        i <- i + 1\n",
    "    }\n",
    "    \n",
    "    return(i)\n",
    "}\n",
    "\n",
    "#Remove the first 5 minutes of the outbound trips\n",
    "\n",
    "r1 <- remove5(df.1.out)\n",
    "df.c.1.out <- df.1.out[r1:nrow(df.1.out), ]\n",
    "coords.c.1.out <- coords.1.out[r1:nrow(df.1.out), ]\n",
    "\n",
    "r2 <- remove5(df.2.out)\n",
    "df.c.2.out <- df.2.out[r2:nrow(df.2.out), ]\n",
    "coords.c.2.out <- coords.2.out[r2:nrow(df.2.out), ]\n",
    "\n",
    "r3 <- remove5(df.3.out)\n",
    "df.c.3.out <- df.3.out[r3:nrow(df.3.out), ]\n",
    "coords.c.3.out <- coords.3.out[r3:nrow(df.3.out), ]\n",
    "\n",
    "r4 <- remove5(df.4.out)\n",
    "df.c.4.out <- df.4.out[r4:nrow(df.4.out), ]\n",
    "coords.c.4.out <- coords.4.out[r4:nrow(df.4.out), ]\n",
    "\n",
    "r5 <- remove5(df.5.out)\n",
    "df.c.5.out <- df.5.out[r5:nrow(df.5.out), ]\n",
    "coords.c.5.out <- coords.5.out[r5:nrow(df.5.out), ]\n",
    "\n",
    "r6 <- remove5(df.6.out)\n",
    "df.c.6.out <- df.6.out[r6:nrow(df.6.out), ]\n",
    "coords.c.6.out <- coords.6.out[r6:nrow(df.6.out), ]\n",
    "\n",
    "r7 <- remove5(df.7.out)\n",
    "df.c.7.out <- df.7.out[r7:nrow(df.7.out), ]\n",
    "coords.c.7.out <- coords.7.out[r7:nrow(df.7.out), ]\n",
    "\n",
    "r8 <- remove5(df.8.out)\n",
    "df.c.8.out <- df.8.out[r8:nrow(df.8.out), ]\n",
    "coords.c.8.out <- coords.8.out[r8:nrow(df.8.out), ]\n",
    "\n",
    "r9 <- remove5(df.9.out)\n",
    "df.c.9.out <- df.9.out[r9:nrow(df.9.out), ]\n",
    "coords.c.9.out <- coords.9.out[r9:nrow(df.9.out), ]\n",
    "\n",
    "r10 <- remove5(df.10.out)\n",
    "df.c.10.out <- df.10.out[r10:nrow(df.10.out), ]\n",
    "coords.c.10.out <- coords.10.out[r10:nrow(df.10.out), ]\n",
    "\n",
    "r11 <- remove5(df.11.out)\n",
    "df.c.11.out <- df.11.out[r11:nrow(df.11.out), ]\n",
    "coords.c.11.out <- coords.11.out[r11:nrow(df.11.out), ]\n",
    "\n",
    "#Create data frame with outbound trips with first 5 minutes removed\n",
    "df.c.full.out <- rbind(df.c.1.out,\n",
    "                       df.c.2.out,\n",
    "                       df.c.3.out,\n",
    "                       df.c.4.out,\n",
    "                       df.c.5.out,\n",
    "                       df.c.6.out,\n",
    "                       df.c.7.out,\n",
    "                       df.c.8.out,\n",
    "                       df.c.9.out,\n",
    "                       df.c.11.out)\n",
    "rownames(df.c.full.out) <- 1:nrow(df.c.full.out)\n",
    "\n",
    "\n",
    "coords.c.full.out <- rbind(coords.c.1.out,\n",
    "                           coords.c.2.out,\n",
    "                           coords.c.3.out,\n",
    "                           coords.c.4.out,\n",
    "                           coords.c.5.out,\n",
    "                           coords.c.6.out,\n",
    "                           coords.c.7.out,\n",
    "                           coords.c.8.out,\n",
    "                           coords.c.9.out,\n",
    "                           coords.c.11.out)\n",
    "rownames(coords.c.full.out) <- 1:nrow(coords.c.full.out)\n",
    "library(geojsonio)"
   ]
  },
  {
   "cell_type": "markdown",
   "metadata": {},
   "source": [
    "## BOMB PLAN"
   ]
  },
  {
   "cell_type": "markdown",
   "metadata": {},
   "source": [
    "All blocks in this section must be run. The bombs() takes as input the starting latitude, longitude, and timpstamp from all 6 days from week 3 and returns two bomb locations for each day (12 bombs total). The place.bombs() function takes as input the output of bombs() and returns the two best bombs from the week, thus providing my final two bomb placements. If you want to view the bomb locations of an individual day, input the starting latitude, longitude, and timestamp of just one day into the bombs() function. \n"
   ]
  },
  {
   "cell_type": "markdown",
   "metadata": {},
   "source": [
    "#### Load in Week 3 Data"
   ]
  },
  {
   "cell_type": "markdown",
   "metadata": {},
   "source": [
    "Adjust the directories as necessary to load week 3 data"
   ]
  },
  {
   "cell_type": "code",
   "execution_count": 204,
   "metadata": {},
   "outputs": [],
   "source": [
    "#Load in week three data starting points\n",
    "d.new.1 <- read_json(\"new_data/20200901112100.geojson\")\n",
    "d.new.2 <- read_json(\"new_data/20200902125611.geojson\")\n",
    "d.new.3 <- read_json(\"new_data/20200903110618.geojson\")\n",
    "d.new.4 <- read_json(\"new_data/20200908081420.geojson\")\n",
    "d.new.5 <- read_json(\"new_data/20200910070926.geojson\")\n",
    "d.new.6 <- read_json(\"new_data/20200914101156.geojson\")\n",
    "\n",
    "df.new <- data.frame(longitude = rep(NA, 6), latitude= rep(NA, 6), time= rep(NA, 6))\n",
    "\n",
    "#Convert from list to data frame\n",
    "df.new$longitude <- c(d.new.1[[\"features\"]][[1]][[\"geometry\"]][[\"coordinates\"]][[1]],\n",
    "                      d.new.2[[\"features\"]][[1]][[\"geometry\"]][[\"coordinates\"]][[1]],\n",
    "                      d.new.3[[\"features\"]][[1]][[\"geometry\"]][[\"coordinates\"]][[1]],\n",
    "                      d.new.4[[\"features\"]][[1]][[\"geometry\"]][[\"coordinates\"]][[1]],\n",
    "                      d.new.5[[\"features\"]][[1]][[\"geometry\"]][[\"coordinates\"]][[1]],\n",
    "                      d.new.6[[\"features\"]][[1]][[\"geometry\"]][[\"coordinates\"]][[1]])\n",
    "\n",
    "df.new$latitude <- c(d.new.1[[\"features\"]][[1]][[\"geometry\"]][[\"coordinates\"]][[2]],\n",
    "                     d.new.2[[\"features\"]][[1]][[\"geometry\"]][[\"coordinates\"]][[2]],\n",
    "                     d.new.3[[\"features\"]][[1]][[\"geometry\"]][[\"coordinates\"]][[2]],\n",
    "                     d.new.4[[\"features\"]][[1]][[\"geometry\"]][[\"coordinates\"]][[2]],\n",
    "                     d.new.5[[\"features\"]][[1]][[\"geometry\"]][[\"coordinates\"]][[2]],\n",
    "                     d.new.6[[\"features\"]][[1]][[\"geometry\"]][[\"coordinates\"]][[2]])\n",
    "\n",
    "df.new$time <- c(d.new.1[[\"features\"]][[1]][[\"properties\"]][[\"time\"]],\n",
    "                 d.new.2[[\"features\"]][[1]][[\"properties\"]][[\"time\"]],\n",
    "                 d.new.3[[\"features\"]][[1]][[\"properties\"]][[\"time\"]],\n",
    "                 d.new.4[[\"features\"]][[1]][[\"properties\"]][[\"time\"]],\n",
    "                 d.new.5[[\"features\"]][[1]][[\"properties\"]][[\"time\"]],\n",
    "                 d.new.6[[\"features\"]][[1]][[\"properties\"]][[\"time\"]])\n",
    "                     "
   ]
  },
  {
   "cell_type": "markdown",
   "metadata": {},
   "source": [
    "### BOMB A REGRESSION"
   ]
  },
  {
   "cell_type": "markdown",
   "metadata": {},
   "source": [
    "#### Create the longitude and latitude regressions for Bomb A"
   ]
  },
  {
   "cell_type": "code",
   "execution_count": 205,
   "metadata": {},
   "outputs": [],
   "source": [
    "#Load in data, remove outlier data\n",
    "\n",
    "df.a <- rbind(df.c.1.out,\n",
    "              df.c.2.out[df.c.2.out$duration < 479,], \n",
    "              df.c.3.out[df.c.3.out$duration < 486,], \n",
    "              df.c.4.out[df.c.4.out$duration < 507,], \n",
    "              df.c.7.out, \n",
    "              df.c.9.out[df.c.9.out$duration < 422,], \n",
    "              df.c.11.out[df.c.11.out$duration < 449,]) \n",
    "\n",
    "coords.a <- rbind(coords.c.1.out,\n",
    "                  coords.c.2.out[df.c.2.out$duration < 479,],\n",
    "                  coords.c.3.out[df.c.3.out$duration < 486,],\n",
    "                  coords.c.4.out[df.c.4.out$duration < 507,],\n",
    "                  coords.c.7.out,\n",
    "                  coords.c.9.out[df.c.9.out$duration < 422,],\n",
    "                  coords.c.11.out[df.c.11.out$duration < 449,])\n",
    "\n",
    "latmin <- 5196465\n",
    "latmax <- 5196600\n",
    "longmin <- 271650\n",
    "longmax <- 271950\n",
    "\n",
    "#Create a subset of the data that only includes data within specific longitude and latitude ranges\n",
    "\n",
    "df.m.a <- df.a[coords.a[,\"longitude\"] > longmin & coords.a[,\"longitude\"] < longmax & \n",
    "                           coords.a[,\"latitude\"] > latmin & coords.a[,\"latitude\"] < latmax, ]\n",
    "\n",
    "coords.m.a <- data.frame(longitude = coords.a[,\"longitude\"][coords.a[,\"longitude\"] > longmin & coords.a[,\"longitude\"] < longmax &\n",
    "                                                                      coords.a[,\"latitude\"] > latmin & coords.a[,\"latitude\"] < latmax],\n",
    "                         latitude = coords.a[,\"latitude\"][coords.a[,\"longitude\"] > longmin & coords.a[,\"longitude\"] < longmax &\n",
    "                                                                      coords.a[,\"latitude\"] > latmin & coords.a[,\"latitude\"] < latmax])\n",
    "\n",
    "#Generate longitude and latitude regressions\n",
    "\n",
    "mod.long.a <-lm(coords.m.a[,\"longitude\"] ~ duration + start.long + start.lat, data = df.m.a)\n",
    "\n",
    "\n",
    "mod.lat.a <-lm(coords.m.a[,\"latitude\"] ~ duration + start.lat + start.long, data = df.m.a)\n",
    "\n",
    "#Create a data frame of residuals; take the sum of squared residuals for each longitude-latitude pair; take the average\n",
    "#duration of the top 20% of pairs with the smallest sum of squared residuals\n",
    "\n",
    "resid.df.a <- data.frame(long.resid = mod.long.a$residuals, lat.resid = mod.lat.a$residuals)\n",
    "resid.df.a$sos <- (resid.df.a$long.resid^2) + (resid.df.a$lat.resid^2)\n",
    "resid.df.a$duration <- df.m.a$duration\n",
    "\n",
    "d.a <- mean(resid.df.a[order(resid.df.a$sos), \"duration\"][1:as.integer(.2*nrow(resid.df.a))])\n",
    "\n"
   ]
  },
  {
   "cell_type": "markdown",
   "metadata": {},
   "source": [
    "### BOMB B REGRESSION"
   ]
  },
  {
   "cell_type": "markdown",
   "metadata": {},
   "source": [
    "#### Create the longitude and latitude regressions for Bomb B"
   ]
  },
  {
   "cell_type": "code",
   "execution_count": 206,
   "metadata": {},
   "outputs": [],
   "source": [
    "#Load in data, remove outlier data\n",
    "\n",
    "df.b <- rbind(df.c.5.out,\n",
    "              df.c.6.out,\n",
    "              df.c.8.out,\n",
    "              df.c.3.out,\n",
    "              df.c.4.out,\n",
    "              df.c.2.out) \n",
    "\n",
    "coords.b <- rbind(coords.c.5.out,\n",
    "                  coords.c.6.out,\n",
    "                  coords.c.8.out,\n",
    "                  coords.c.3.out,\n",
    "                  coords.c.4.out,\n",
    "                  coords.c.2.out)\n",
    "\n",
    "latmin <- 5196450\n",
    "latmax <- 5196680\n",
    "longmin <- 271595\n",
    "longmax <- 271650\n",
    "\n",
    "#Create a subset of the data that only includes data within specific longitude and latitude ranges\n",
    "\n",
    "df.m.b <- df.b[coords.b[,\"longitude\"] > longmin & coords.b[,\"longitude\"] < longmax & \n",
    "                           coords.b[,\"latitude\"] > latmin & coords.b[,\"latitude\"] < latmax, ]\n",
    "\n",
    "coords.m.b <- data.frame(longitude = coords.b[,\"longitude\"][coords.b[,\"longitude\"] > longmin & coords.b[,\"longitude\"] < longmax &\n",
    "                                                                      coords.b[,\"latitude\"] > latmin & coords.b[,\"latitude\"] < latmax],\n",
    "                         latitude = coords.b[,\"latitude\"][coords.b[,\"longitude\"] > longmin & coords.b[,\"longitude\"] < longmax &\n",
    "                                                                      coords.b[,\"latitude\"] > latmin & coords.b[,\"latitude\"] < latmax])\n",
    "\n",
    "#Generate longitude and latitude regressions\n",
    "\n",
    "mod.long.b <-lm(coords.m.b[,\"longitude\"] ~ duration + start.long + start.lat, data = df.m.b)\n",
    "\n",
    "\n",
    "mod.lat.b <-lm(coords.m.b[,\"latitude\"] ~ duration + start.lat + start.long, data = df.m.b)\n",
    "\n",
    "#Create a data frame of residuals; take the sum of squared residuals for each longitude-latitude pair; take the average\n",
    "#duration of the top 20% of pairs with the smallest sum of squared residuals\n",
    "\n",
    "resid.df.b <- data.frame(long.resid = mod.long.b$residuals, lat.resid = mod.lat.b$residuals)\n",
    "resid.df.b$sos <- (resid.df.b$long.resid^2) + (resid.df.b$lat.resid^2)\n",
    "resid.df.b$duration <- df.m.b$duration\n",
    "\n",
    "d.b <- mean(resid.df.b[order(resid.df.b$sos), \"duration\"][1:as.integer(.3*nrow(resid.df.b))])"
   ]
  },
  {
   "cell_type": "markdown",
   "metadata": {},
   "source": [
    "### BOMB GENERATION"
   ]
  },
  {
   "cell_type": "code",
   "execution_count": 207,
   "metadata": {},
   "outputs": [],
   "source": [
    "#Determine two possible locations for each day. Can take more than one input, will return list of relevant metrics\n",
    "\n",
    "bombs <- function(initial.long, initial.lat, initial.timestamp){\n",
    "    \n",
    "    #Format starting coordinates into UTM format\n",
    "    \n",
    "    longlat.df <- data.frame(longitude = initial.long, latitude = initial.lat, time = initial.timestamp)\n",
    "    coords.df <- coords(longlat.df)\n",
    "    start.long <- coords.df[,\"longitude\"]\n",
    "    start.lat <- coords.df[,\"latitude\"]\n",
    "    \n",
    "    #Format time into datetime POSIXct object with the true time / time zone\n",
    "    \n",
    "    timetemp <- strptime(initial.timestamp, \"%Y-%m-%dT%H:%M:%S\")\n",
    "    time.format <- as.POSIXct(timetemp, format = \"%Y-%m-%d%H:%M:%S\", tz = \"us/mountain\") - 2*60*60\n",
    "    \n",
    "       \n",
    "    #Create longitude and latitude data for bomb A\n",
    "    \n",
    "    lat.data.a <- data.frame(duration = d.a, start.lat = start.lat, start.long = start.long)\n",
    "    long.data.a <- data.frame(duration = d.a, start.lat = start.lat, start.long = start.long)\n",
    "    \n",
    "    #Predict longitude and latitude for bomb A\n",
    "    \n",
    "    lat.utm.a <- predict(mod.lat.a, newdata = lat.data.a)\n",
    "    long.utm.a <- predict(mod.long.a, newdata = long.data.a)\n",
    "    \n",
    "    #Convert longitude and latitude back from UTM for bomb A\n",
    "    \n",
    "    sputm.a <- SpatialPoints(data.frame(longitude = long.utm.a, latitude = lat.utm.a),\n",
    "                             proj4string=CRS(\"+proj=utm +zone=12 +datum=WGS84\"))\n",
    "    spgeo.a <- spTransform(sputm.a, CRS(\"+proj=longlat +datum=WGS84\"))\n",
    "    \n",
    "    #Store latitude, longitude, time of detonation, and day of week for bomb A\n",
    "    \n",
    "    bomb.lat.a <- as.numeric(spgeo.a$latitude)\n",
    "    bomb.long.a <- as.numeric(spgeo.a$longitude)\n",
    "    bomb.time.a <- time.format + d.a\n",
    "    bomb.weekday.a <-weekdays(bomb.time.a)\n",
    "\n",
    "    #Repeat all above steps for bomb B\n",
    "    \n",
    "    lat.data.b <- data.frame(duration = d.b, start.lat = start.lat, start.long = start.long)\n",
    "    long.data.b <- data.frame(duration = d.b, start.lat = start.lat, start.long = start.long)\n",
    "    \n",
    "    \n",
    "    lat.utm.b <- predict(mod.lat.b, newdata = lat.data.b)\n",
    "    long.utm.b <- predict(mod.long.b, newdata = long.data.b)\n",
    "    \n",
    "    \n",
    "    sputm.b <- SpatialPoints(data.frame(longitude = long.utm.b, latitude = lat.utm.b),\n",
    "                             proj4string=CRS(\"+proj=utm +zone=12 +datum=WGS84\"))\n",
    "    spgeo.b <- spTransform(sputm.b, CRS(\"+proj=longlat +datum=WGS84\"))\n",
    "    \n",
    "    \n",
    "    bomb.lat.b <- as.numeric(spgeo.b$latitude)\n",
    "    bomb.long.b <- as.numeric(spgeo.b$longitude)\n",
    "    bomb.time.b <- time.format + d.b\n",
    "    bomb.weekday.b <-weekdays(bomb.time.b)\n",
    "    \n",
    "    \n",
    "    #Create output, storing longitude, latitude, detonation time, weekday, and duration of walk in list\n",
    "    \n",
    "    bombplan <- list(\"Bomb.A\", \"Bomb.B\")\n",
    "    \n",
    "    bombplan$Bomb.A$longitude <- bomb.long.a\n",
    "    bombplan$Bomb.A$latitude <- bomb.lat.a\n",
    "    bombplan$Bomb.A$time <- bomb.time.a\n",
    "    bombplan$Bomb.A$weekday <- bomb.weekday.a\n",
    "    bombplan$Bomb.A$duration <- d.a\n",
    "    \n",
    "    \n",
    "    bombplan$Bomb.B$longitude <- bomb.long.b\n",
    "    bombplan$Bomb.B$latitude <- bomb.lat.b\n",
    "    bombplan$Bomb.B$time <- bomb.time.b\n",
    "    bombplan$Bomb.B$weekday <- bomb.weekday.b\n",
    "    bombplan$Bomb.B$duration <- d.b\n",
    "    \n",
    "    return(bombplan)\n",
    "\n",
    "}"
   ]
  },
  {
   "cell_type": "code",
   "execution_count": 208,
   "metadata": {},
   "outputs": [],
   "source": [
    "place.bombs <- function(bomblist){\n",
    "    \n",
    "    df.hits.a <- data.frame(longitude = NULL, latitude = NULL, time = NULL, weekday = NULL, hits = NULL, accuracy = NULL, bomb.id = NULL)\n",
    "    n <- length(bomblist$Bomb.A$longitude)\n",
    "    d.radius <- 0.008\n",
    "\n",
    "    #For each possible bomb on path A, determine how many points from the training fata are within the blast radius;\n",
    "    #determine the distance the user was from the bomb; determine how close they were temporally to the bomb's detonaation;\n",
    "    #combine the ratios of these values to form an \"accuracy ratio;\" sum the accuracies of all the points that would have\n",
    "    #been hit by the bomb\n",
    "    \n",
    "    for(i in 1:n){\n",
    "        \n",
    "        #Initialize bomb data\n",
    "        \n",
    "        df.bomb.a <- data.frame(longitude = bomblist$Bomb.A$longitude[i],\n",
    "                                latitude = bomblist$Bomb.A$latitude[i],\n",
    "                                time = bomblist$Bomb.A$time[i],\n",
    "                                weekday = bomblist$Bomb.A$weekday[i])\n",
    "        \n",
    "        #Calculate the distance between the bomb and every point\n",
    "        \n",
    "        dist.vec.a <- rdist.earth(df.a[, c(\"longitude\", \"latitude\")], df.bomb.a[1, c(\"longitude\", \"latitude\")])\n",
    "        \n",
    "        #Create a new dataframe of points that were within a certain radius of the blast (8 meters was chosen instead of 5\n",
    "        #to account for the user passing the bomb in their path despite points not being within 5 meters)\n",
    "        \n",
    "        df.temp <- df.a[dist.vec.a <= d.radius, c(\"longitude\", \"latitude\", \"duration\")]\n",
    "        \n",
    "        #Calculate the difference in time between when they were near the bomb and when it exploded\n",
    "        \n",
    "        df.temp$time.dif <- abs(df.temp$duration - d.a)\n",
    "        \n",
    "        #Store the distance that the user was from the bomb when it detonated\n",
    "        \n",
    "        df.temp$distance <- dist.vec.a[dist.vec.a <= d.radius]\n",
    "        \n",
    "        #If they were within 10 seconds and 8 meters, count it as a hit\n",
    "        \n",
    "        df.temp$potential <- ifelse(df.temp$time.dif <= 10, 1, 0)\n",
    "        \n",
    "        \n",
    "        #Take the ratio of the true distance to the maximum blast radius\n",
    "        \n",
    "        df.temp$dist.ratio <- (df.temp$distance/d.radius)\n",
    "        \n",
    "        #Take the ratio of their temporal distance to the bomb and the maximum time radius of the bomb\n",
    "        \n",
    "        df.temp$time.ratio <- (df.temp$time.dif/10)\n",
    "        \n",
    "        #Combine these metrics to get an accuracy value; a smaller value represents greater accuracy\n",
    "        \n",
    "        df.temp$accuracy <- df.temp$dist.ratio + df.temp$time.ratio\n",
    "        \n",
    "        #Filter out all bombs that were not hits\n",
    "        \n",
    "        df.temp <- df.temp[df.temp$potential == 1, ]\n",
    "        \n",
    "        \n",
    "        #Sum the accuracies for the each point that the bomb was near, and divide it by the total number of points that would\n",
    "        #have been hit\n",
    "        \n",
    "        df.bomb.a$hits <- sum(df.temp$potential)\n",
    "        df.bomb.a$accuracy <- sum(df.temp$accuracy)/df.bomb.a$hits\n",
    "        df.bomb.a$bomb.id <- \"A\"\n",
    "        \n",
    "        #Remove any bombs that had zero hits, and add the final bomb information to the data frame\n",
    "\n",
    "        df.bomb.a <- df.bomb.a[df.bomb.a$hits > 0, ]   \n",
    "\n",
    "        df.hits.a <- rbind(df.hits.a, df.bomb.a)\n",
    "    }\n",
    "    \n",
    "    #Select the most accurate bomb (smallest accuracy metric) to be placed\n",
    "\n",
    "    a.bomb <- df.hits.a[df.hits.a$accuracy == min(df.hits.a$accuracy), ]\n",
    "    \n",
    "    #Repeat for bomb B\n",
    "    \n",
    "    \n",
    "    df.hits.b <- data.frame(longitude = NULL, latitude = NULL, time = NULL, weekday = NULL, hits = NULL, accuracy = NULL, bomb.id = NULL)\n",
    "\n",
    "    for(i in 1:n){\n",
    "        \n",
    "        df.bomb.b <- data.frame(longitude = bomblist$Bomb.B$longitude[i],\n",
    "                                latitude = bomblist$Bomb.B$latitude[i],\n",
    "                                time = bomblist$Bomb.B$time[i],\n",
    "                                weekday = bomblist$Bomb.B$weekday[i])\n",
    "        \n",
    "        dist.vec.b <- rdist.earth(df.b[, c(\"longitude\", \"latitude\")], df.bomb.b[1, c(\"longitude\", \"latitude\")])\n",
    "        \n",
    "        \n",
    "        df.temp <- df.b[dist.vec.b <= d.radius, c(\"longitude\", \"latitude\", \"duration\")]\n",
    "        df.temp$time.dif <- abs(df.temp$duration - d.b)\n",
    "        df.temp$distance <- dist.vec.b[dist.vec.b <= d.radius]\n",
    "        df.temp$potential <- ifelse(df.temp$time.dif <= 10, 1, 0)\n",
    "        \n",
    "        df.temp$dist.ratio <- (df.temp$distance/d.radius)\n",
    "        df.temp$time.ratio <- (df.temp$time.dif/10)\n",
    "        df.temp$accuracy <- df.temp$dist.ratio + df.temp$time.ratio\n",
    "        df.temp <- df.temp[df.temp$potential == 1, ]\n",
    "        \n",
    "        df.bomb.b$hits <- sum(df.temp$potential)\n",
    "        df.bomb.b$accuracy <- sum(df.temp$accuracy)/df.bomb.b$hits\n",
    "        df.bomb.b$bomb.id <- \"B\"\n",
    "        df.bomb.b <- df.bomb.b[df.bomb.b$hits > 0, ]   \n",
    "\n",
    "        df.hits.b <- rbind(df.hits.b, df.bomb.b)\n",
    "    }\n",
    "\n",
    "    b.bomb <- df.hits.b[df.hits.b$accuracy == min(df.hits.b$accuracy), ]\n",
    "\n",
    "\n",
    "    \n",
    "#     return(a.bomb)\n",
    "#     return(rbind(df.hits.a, df.hits.b))\n",
    "    return(rbind(a.bomb, b.bomb))\n",
    "}"
   ]
  },
  {
   "cell_type": "markdown",
   "metadata": {},
   "source": [
    "### FINAL ANSWER"
   ]
  },
  {
   "cell_type": "code",
   "execution_count": 209,
   "metadata": {},
   "outputs": [
    {
     "data": {
      "text/html": [
       "<table>\n",
       "<thead><tr><th></th><th scope=col>longitude</th><th scope=col>latitude</th><th scope=col>time</th><th scope=col>weekday</th><th scope=col>hits</th><th scope=col>accuracy</th><th scope=col>bomb.id</th></tr></thead>\n",
       "<tbody>\n",
       "\t<tr><th scope=row>3</th><td>-113.9962          </td><td>46.88319           </td><td>2020-09-10 11:18:17</td><td>Thursday           </td><td>1                  </td><td>0.5705186          </td><td>A                  </td></tr>\n",
       "\t<tr><th scope=row>4</th><td>-113.9975          </td><td>46.88337           </td><td>2020-09-14 14:19:03</td><td>Monday             </td><td>2                  </td><td>0.8376659          </td><td>B                  </td></tr>\n",
       "</tbody>\n",
       "</table>\n"
      ],
      "text/latex": [
       "\\begin{tabular}{r|lllllll}\n",
       "  & longitude & latitude & time & weekday & hits & accuracy & bomb.id\\\\\n",
       "\\hline\n",
       "\t3 & -113.9962           & 46.88319            & 2020-09-10 11:18:17 & Thursday            & 1                   & 0.5705186           & A                  \\\\\n",
       "\t4 & -113.9975           & 46.88337            & 2020-09-14 14:19:03 & Monday              & 2                   & 0.8376659           & B                  \\\\\n",
       "\\end{tabular}\n"
      ],
      "text/markdown": [
       "\n",
       "| <!--/--> | longitude | latitude | time | weekday | hits | accuracy | bomb.id |\n",
       "|---|---|---|---|---|---|---|---|\n",
       "| 3 | -113.9962           | 46.88319            | 2020-09-10 11:18:17 | Thursday            | 1                   | 0.5705186           | A                   |\n",
       "| 4 | -113.9975           | 46.88337            | 2020-09-14 14:19:03 | Monday              | 2                   | 0.8376659           | B                   |\n",
       "\n"
      ],
      "text/plain": [
       "  longitude latitude time                weekday  hits accuracy  bomb.id\n",
       "3 -113.9962 46.88319 2020-09-10 11:18:17 Thursday 1    0.5705186 A      \n",
       "4 -113.9975 46.88337 2020-09-14 14:19:03 Monday   2    0.8376659 B      "
      ]
     },
     "metadata": {},
     "output_type": "display_data"
    }
   ],
   "source": [
    "place.bombs(bombs(df.new$longitude, df.new$latitude, df.new$time))"
   ]
  },
  {
   "cell_type": "markdown",
   "metadata": {},
   "source": [
    " "
   ]
  },
  {
   "cell_type": "markdown",
   "metadata": {},
   "source": [
    "  \n",
    " "
   ]
  },
  {
   "cell_type": "markdown",
   "metadata": {},
   "source": [
    " "
   ]
  },
  {
   "cell_type": "markdown",
   "metadata": {},
   "source": [
    " "
   ]
  },
  {
   "cell_type": "markdown",
   "metadata": {},
   "source": [
    " "
   ]
  },
  {
   "cell_type": "markdown",
   "metadata": {},
   "source": [
    " "
   ]
  },
  {
   "cell_type": "markdown",
   "metadata": {},
   "source": [
    " "
   ]
  },
  {
   "cell_type": "markdown",
   "metadata": {},
   "source": [
    " "
   ]
  },
  {
   "cell_type": "markdown",
   "metadata": {},
   "source": [
    " "
   ]
  },
  {
   "cell_type": "markdown",
   "metadata": {},
   "source": [
    " "
   ]
  },
  {
   "cell_type": "markdown",
   "metadata": {},
   "source": [
    " "
   ]
  },
  {
   "cell_type": "markdown",
   "metadata": {},
   "source": [
    "# ADDITIONAL ANALYSES AND DATA DATA VISUALIZATIONS"
   ]
  },
  {
   "cell_type": "markdown",
   "metadata": {},
   "source": [
    "## TEMPERATURE ANALYSIS"
   ]
  },
  {
   "cell_type": "code",
   "execution_count": 8,
   "metadata": {},
   "outputs": [
    {
     "data": {
      "text/plain": [
       "\n",
       "Call:\n",
       "lm(formula = speed.avg ~ temp, data = df.full)\n",
       "\n",
       "Residuals:\n",
       "     Min       1Q   Median       3Q      Max \n",
       "-0.19145 -0.08606 -0.05677  0.09543  0.30320 \n",
       "\n",
       "Coefficients:\n",
       "            Estimate Std. Error t value Pr(>|t|)  \n",
       "(Intercept) 0.315981   0.523057   0.604    0.563  \n",
       "temp        0.019018   0.007817   2.433    0.041 *\n",
       "---\n",
       "Signif. codes:  0 '***' 0.001 '**' 0.01 '*' 0.05 '.' 0.1 ' ' 1\n",
       "\n",
       "Residual standard error: 0.1591 on 8 degrees of freedom\n",
       "Multiple R-squared:  0.4252,\tAdjusted R-squared:  0.3534 \n",
       "F-statistic: 5.919 on 1 and 8 DF,  p-value: 0.04102\n"
      ]
     },
     "metadata": {},
     "output_type": "display_data"
    },
    {
     "data": {
      "text/html": [
       "0.652094852960504"
      ],
      "text/latex": [
       "0.652094852960504"
      ],
      "text/markdown": [
       "0.652094852960504"
      ],
      "text/plain": [
       "[1] 0.6520949"
      ]
     },
     "metadata": {},
     "output_type": "display_data"
    },
    {
     "data": {
      "image/png": "[encoded data removed]",
      "text/plain": [
       "Plot with title \"Figure C: Relationship between Speed and Temperature\""
      ]
     },
     "metadata": {},
     "output_type": "display_data"
    }
   ],
   "source": [
    "#Take the 1 point from each day\n",
    "\n",
    "df.full <- rbind(df.1.duration[1,],\n",
    "                 df.2.duration[1,],\n",
    "                 df.3.duration[1,],\n",
    "                 df.4.duration[1,],\n",
    "                 df.5.duration[1,],\n",
    "                 df.6.duration[1,],\n",
    "                 df.7.duration[1,],\n",
    "                 df.8.duration[1,],\n",
    "                 df.9.duration[1,],\n",
    "                 df.11.duration[1,]) #Excluding 10, because it is the same day as 9\n",
    "\n",
    "#Plot the average speed for each day against the average temperature; fit a linear model to the data\n",
    "plot(df.full$temp, df.full$speed.avg,\n",
    "     xlab = \"Average Temperature (°F)\", ylab = \"Average Speed (m/s)\", main = \"Figure C: Relationship between Speed and Temperature\")\n",
    "temp.lm <- lm(speed.avg ~ temp, data = df.full)\n",
    "abline(temp.lm)\n",
    "summary(temp.lm)\n",
    "cor(df.full$speed.avg, df.full$temp)"
   ]
  },
  {
   "cell_type": "markdown",
   "metadata": {},
   "source": [
    "## UNCERTAINTY IN TIME AND SPACE"
   ]
  },
  {
   "cell_type": "markdown",
   "metadata": {},
   "source": [
    "### UNCERTAINTY IN TIME"
   ]
  },
  {
   "cell_type": "code",
   "execution_count": 11,
   "metadata": {},
   "outputs": [
    {
     "data": {
      "text/plain": [
       "\n",
       "Call:\n",
       "lm(formula = duration.sd ~ distance, data = df.full.out)\n",
       "\n",
       "Residuals:\n",
       "    Min      1Q  Median      3Q     Max \n",
       "-53.988 -17.034  -4.384  16.615  65.165 \n",
       "\n",
       "Coefficients:\n",
       "            Estimate Std. Error t value Pr(>|t|)    \n",
       "(Intercept)  22.7958     0.9529   23.92   <2e-16 ***\n",
       "distance     90.8619     0.8369  108.57   <2e-16 ***\n",
       "---\n",
       "Signif. codes:  0 '***' 0.001 '**' 0.01 '*' 0.05 '.' 0.1 ' ' 1\n",
       "\n",
       "Residual standard error: 23.93 on 2608 degrees of freedom\n",
       "Multiple R-squared:  0.8188,\tAdjusted R-squared:  0.8188 \n",
       "F-statistic: 1.179e+04 on 1 and 2608 DF,  p-value: < 2.2e-16\n"
      ]
     },
     "metadata": {},
     "output_type": "display_data"
    },
    {
     "data": {
      "image/png": "[encoded data removed]",
      "text/plain": [
       "Plot with title \"Figure D: Uncertainty in Time\""
      ]
     },
     "metadata": {},
     "output_type": "display_data"
    }
   ],
   "source": [
    "#Create groups of distance travelled\n",
    "\n",
    "percs <- seq(0,1,.01)\n",
    "breaks <- quantile(df.full.out$distance, percs)\n",
    "df.full.out$duration.sd <- NA\n",
    "\n",
    "#For each group, store the SD of the durations\n",
    "\n",
    "for(i in 1:(length(breaks)-1)){\n",
    "    if (i == 1){\n",
    "        df.full.out[df.full.out$distance >= breaks[i] &\n",
    "                    df.full.out$distance <= breaks[i+1] ,\"duration.sd\"] <-\n",
    "        sd(df.full.out[df.full.out$distance >= breaks[i] &\n",
    "                       df.full.out$distance <= breaks[i+1] ,\"duration\"])\n",
    "    }else{\n",
    "        df.full.out[df.full.out$distance > breaks[i] &\n",
    "                    df.full.out$distance <= breaks[i+1] ,\"duration.sd\"] <-\n",
    "        sd(df.full.out[df.full.out$distance > breaks[i] &\n",
    "                       df.full.out$distance <= breaks[i+1] ,\"duration\"])\n",
    "        \n",
    "    }\n",
    "}\n",
    "\n",
    "#Plot the SD of the duration in each group against the distance travelled during the walk; fit a linear model to the data\n",
    "\n",
    "plot(df.full.out$distance, df.full.out$duration.sd,\n",
    "     xlab = \"Distance from Starting Point\", ylab = \"SD of Elapsed Time of Walk\", main = \"Figure D: Uncertainty in Time\")\n",
    "lm.unc <- lm(duration.sd ~ distance, data = df.full.out)\n",
    "abline(lm.unc)\n",
    "summary(lm.unc)"
   ]
  },
  {
   "cell_type": "markdown",
   "metadata": {},
   "source": [
    "## UNCERTAINTY IN SPACE"
   ]
  },
  {
   "cell_type": "code",
   "execution_count": 12,
   "metadata": {},
   "outputs": [
    {
     "data": {
      "text/plain": [
       "\n",
       "Call:\n",
       "lm(formula = distance.sd ~ duration, data = df.full.out)\n",
       "\n",
       "Residuals:\n",
       "      Min        1Q    Median        3Q       Max \n",
       "-0.101404 -0.008067  0.000070  0.010798  0.029298 \n",
       "\n",
       "Coefficients:\n",
       "             Estimate Std. Error t value Pr(>|t|)    \n",
       "(Intercept) 1.844e-02  6.960e-04   26.50   <2e-16 ***\n",
       "duration    4.165e-05  4.339e-07   95.99   <2e-16 ***\n",
       "---\n",
       "Signif. codes:  0 '***' 0.001 '**' 0.01 '*' 0.05 '.' 0.1 ' ' 1\n",
       "\n",
       "Residual standard error: 0.01814 on 2608 degrees of freedom\n",
       "Multiple R-squared:  0.7794,\tAdjusted R-squared:  0.7793 \n",
       "F-statistic:  9214 on 1 and 2608 DF,  p-value: < 2.2e-16\n"
      ]
     },
     "metadata": {},
     "output_type": "display_data"
    },
    {
     "data": {
      "image/png": "[encoded data removed]",
      "text/plain": [
       "Plot with title \"Figure E: Uncertainty in Space\""
      ]
     },
     "metadata": {},
     "output_type": "display_data"
    }
   ],
   "source": [
    "#Create groups of duration of walk\n",
    "\n",
    "percs <- seq(0,1,.01)\n",
    "breaks <- quantile(df.full.out$duration, percs)\n",
    "df.full.out$distance.sd <- NA\n",
    "\n",
    "#For each group, store the SD of the distance travelled\n",
    "\n",
    "for(i in 1:(length(breaks)-1)){\n",
    "    if (i == 1){\n",
    "        df.full.out[df.full.out$duration >= breaks[i] &\n",
    "                    df.full.out$duration <= breaks[i+1] ,\"distance.sd\"] <-\n",
    "        sd(df.full.out[df.full.out$duration >= breaks[i] &\n",
    "                       df.full.out$duration <= breaks[i+1] ,\"distance\"])\n",
    "    }else{\n",
    "        df.full.out[df.full.out$duration > breaks[i] &\n",
    "                    df.full.out$duration <= breaks[i+1] ,\"distance.sd\"] <-\n",
    "        sd(df.full.out[df.full.out$duration > breaks[i] &\n",
    "                       df.full.out$duration <= breaks[i+1] ,\"distance\"])\n",
    "        \n",
    "    }\n",
    "}\n",
    "\n",
    "#Plot the SD of the distance travelled in each group against the duration of the walk; fit a linear model to the data\n",
    "\n",
    "plot(df.full.out$duration, df.full.out$distance.sd,\n",
    "     xlab = \"Elapsed time of Walk\", ylab = \"SD of Distance from Starting Point\", main = \"Figure E: Uncertainty in Space\")\n",
    "lm.unc <- lm(distance.sd ~ duration, data = df.full.out)\n",
    "abline(lm.unc)\n",
    "summary(lm.unc)"
   ]
  },
  {
   "cell_type": "code",
   "execution_count": 13,
   "metadata": {},
   "outputs": [
    {
     "data": {
      "text/plain": [
       "\n",
       "Call:\n",
       "lm(formula = duration.sd ~ distance.sd, data = df.full.out)\n",
       "\n",
       "Residuals:\n",
       "   Min     1Q Median     3Q    Max \n",
       "-68.03 -15.84  -4.31  12.77 120.05 \n",
       "\n",
       "Coefficients:\n",
       "            Estimate Std. Error t value Pr(>|t|)    \n",
       "(Intercept)   14.310      1.096   13.05   <2e-16 ***\n",
       "distance.sd 1298.762     12.874  100.88   <2e-16 ***\n",
       "---\n",
       "Signif. codes:  0 '***' 0.001 '**' 0.01 '*' 0.05 '.' 0.1 ' ' 1\n",
       "\n",
       "Residual standard error: 25.4 on 2608 degrees of freedom\n",
       "Multiple R-squared:  0.796,\tAdjusted R-squared:  0.7959 \n",
       "F-statistic: 1.018e+04 on 1 and 2608 DF,  p-value: < 2.2e-16\n"
      ]
     },
     "metadata": {},
     "output_type": "display_data"
    },
    {
     "data": {
      "image/png": "[encoded data removed]",
      "text/plain": [
       "Plot with title \"Figure F: Uncertainty in Space and Time\""
      ]
     },
     "metadata": {},
     "output_type": "display_data"
    }
   ],
   "source": [
    "#Plot the SDs of the groups from the above two graphs against each other; fit a linear model to the data\n",
    "\n",
    "plot(df.full.out$distance.sd, df.full.out$duration.sd,\n",
    "     xlab = \"SD of Distance from Starting Point\", ylab = \"SD of Elapsed time of Walk\", main = \"Figure F: Uncertainty in Space and Time\")\n",
    "lm.unc <- lm(duration.sd ~ distance.sd, data = df.full.out)\n",
    "abline(lm.unc)\n",
    "summary(lm.unc)"
   ]
  },
  {
   "cell_type": "markdown",
   "metadata": {},
   "source": [
    "## MODEL VALIDATION"
   ]
  },
  {
   "cell_type": "markdown",
   "metadata": {},
   "source": [
    "### OUT-OF-SAMPLE TESTING"
   ]
  },
  {
   "cell_type": "markdown",
   "metadata": {},
   "source": [
    "#### Testing first week data on the second week"
   ]
  },
  {
   "cell_type": "code",
   "execution_count": 210,
   "metadata": {},
   "outputs": [],
   "source": [
    "df.a <- rbind(df.c.1.out,\n",
    "              df.c.2.out[df.c.2.out$duration < 479,], \n",
    "              df.c.3.out[df.c.3.out$duration < 486,], \n",
    "              df.c.4.out[df.c.4.out$duration < 507,]) \n",
    "\n",
    "coords.a <- rbind(coords.c.1.out,\n",
    "                  coords.c.2.out[df.c.2.out$duration < 479,],\n",
    "                  coords.c.3.out[df.c.3.out$duration < 486,],\n",
    "                  coords.c.4.out[df.c.4.out$duration < 507,])\n",
    "\n",
    "latmin <- 5196465\n",
    "latmax <- 5196600\n",
    "longmin <- 271650\n",
    "longmax <- 271950\n",
    "\n",
    "\n",
    "df.m.a <- df.a[coords.a[,\"longitude\"] > longmin & coords.a[,\"longitude\"] < longmax & \n",
    "                           coords.a[,\"latitude\"] > latmin & coords.a[,\"latitude\"] < latmax, ]\n",
    "\n",
    "coords.m.a <- data.frame(longitude = coords.a[,\"longitude\"][coords.a[,\"longitude\"] > longmin & coords.a[,\"longitude\"] < longmax &\n",
    "                                                                      coords.a[,\"latitude\"] > latmin & coords.a[,\"latitude\"] < latmax],\n",
    "                         latitude = coords.a[,\"latitude\"][coords.a[,\"longitude\"] > longmin & coords.a[,\"longitude\"] < longmax &\n",
    "                                                                      coords.a[,\"latitude\"] > latmin & coords.a[,\"latitude\"] < latmax])\n",
    "\n",
    "mod.long.a <-lm(coords.m.a[,\"longitude\"] ~ duration + start.long + start.lat, data = df.m.a)\n",
    "\n",
    "\n",
    "mod.lat.a <-lm(coords.m.a[,\"latitude\"] ~ duration + start.lat + start.long, data = df.m.a)\n",
    "\n",
    "\n",
    "resid.df.a <- data.frame(long.resid = mod.long.a$residuals, lat.resid = mod.lat.a$residuals)\n",
    "resid.df.a$sos <- (resid.df.a$long.resid^2) + (resid.df.a$lat.resid^2)\n",
    "resid.df.a$duration <- df.m.a$duration\n",
    "\n",
    "d.a <- mean(resid.df.a[order(resid.df.a$sos), \"duration\"][1:as.integer(.2*nrow(resid.df.a))])\n",
    "\n"
   ]
  },
  {
   "cell_type": "code",
   "execution_count": 211,
   "metadata": {},
   "outputs": [],
   "source": [
    "df.b <- rbind(df.c.2.out,\n",
    "              df.c.3.out,\n",
    "              df.c.4.out,\n",
    "              df.c.5.out)\n",
    "\n",
    "coords.b <- rbind(coords.c.2.out,\n",
    "                  coords.c.3.out,\n",
    "                  coords.c.4.out,\n",
    "                  coords.c.5.out)\n",
    "\n",
    "latmin <- 5196450\n",
    "latmax <- 5196680\n",
    "longmin <- 271595\n",
    "longmax <- 271650\n",
    "\n",
    "df.m.b <- df.b[coords.b[,\"longitude\"] > longmin & coords.b[,\"longitude\"] < longmax & \n",
    "                           coords.b[,\"latitude\"] > latmin & coords.b[,\"latitude\"] < latmax, ]\n",
    "\n",
    "coords.m.b <- data.frame(longitude = coords.b[,\"longitude\"][coords.b[,\"longitude\"] > longmin & coords.b[,\"longitude\"] < longmax &\n",
    "                                                                      coords.b[,\"latitude\"] > latmin & coords.b[,\"latitude\"] < latmax],\n",
    "                         latitude = coords.b[,\"latitude\"][coords.b[,\"longitude\"] > longmin & coords.b[,\"longitude\"] < longmax &\n",
    "                                                                      coords.b[,\"latitude\"] > latmin & coords.b[,\"latitude\"] < latmax])\n",
    "\n",
    "mod.long.b <-lm(coords.m.b[,\"longitude\"] ~ duration + start.long + start.lat, data = df.m.b)\n",
    "\n",
    "\n",
    "mod.lat.b <-lm(coords.m.b[,\"latitude\"] ~ duration + start.lat + start.long, data = df.m.b)\n",
    "\n",
    "\n",
    "resid.df.b <- data.frame(long.resid = mod.long.b$residuals, lat.resid = mod.lat.b$residuals)\n",
    "resid.df.b$sos <- (resid.df.b$long.resid^2) + (resid.df.b$lat.resid^2)\n",
    "resid.df.b$duration <- df.m.b$duration\n",
    "\n",
    "d.b <- mean(resid.df.b[order(resid.df.b$sos), \"duration\"][1:as.integer(.3*nrow(resid.df.b))])"
   ]
  },
  {
   "cell_type": "code",
   "execution_count": 212,
   "metadata": {},
   "outputs": [],
   "source": [
    "n <- 5\n",
    "\n",
    "d.new.6 <- read_json(\"gps/20200825121346.geojson\") \n",
    "d.new.7 <- read_json(\"gps/20200826131614.geojson\") \n",
    "d.new.8 <- read_json(\"gps/20200827113234.geojson\") \n",
    "d.new.9 <- read_json(\"gps/20200828122627.geojson\") \n",
    "d.new.11 <- read_json(\"gps/20200831115147.geojson\") \n",
    "\n",
    "df.new <- data.frame(longitude = rep(NA, n), latitude= rep(NA, n), time= rep(NA, n))\n",
    "\n",
    "df.new$longitude <- c(d.new.6[[\"features\"]][[1]][[\"geometry\"]][[\"coordinates\"]][[1]],\n",
    "                      d.new.7[[\"features\"]][[1]][[\"geometry\"]][[\"coordinates\"]][[1]],\n",
    "                      d.new.8[[\"features\"]][[1]][[\"geometry\"]][[\"coordinates\"]][[1]],\n",
    "                      d.new.9[[\"features\"]][[1]][[\"geometry\"]][[\"coordinates\"]][[1]],\n",
    "                      d.new.11[[\"features\"]][[1]][[\"geometry\"]][[\"coordinates\"]][[1]])\n",
    "\n",
    "df.new$latitude <- c(d.new.6[[\"features\"]][[1]][[\"geometry\"]][[\"coordinates\"]][[2]],\n",
    "                     d.new.7[[\"features\"]][[1]][[\"geometry\"]][[\"coordinates\"]][[2]],\n",
    "                     d.new.8[[\"features\"]][[1]][[\"geometry\"]][[\"coordinates\"]][[2]],\n",
    "                     d.new.9[[\"features\"]][[1]][[\"geometry\"]][[\"coordinates\"]][[2]],\n",
    "                     d.new.11[[\"features\"]][[1]][[\"geometry\"]][[\"coordinates\"]][[2]])\n",
    "\n",
    "df.new$time <- c(d.new.6[[\"features\"]][[1]][[\"properties\"]][[\"time\"]],\n",
    "                 d.new.7[[\"features\"]][[1]][[\"properties\"]][[\"time\"]],\n",
    "                 d.new.8[[\"features\"]][[1]][[\"properties\"]][[\"time\"]],\n",
    "                 d.new.9[[\"features\"]][[1]][[\"properties\"]][[\"time\"]],\n",
    "                 d.new.11[[\"features\"]][[1]][[\"properties\"]][[\"time\"]])\n",
    "                     "
   ]
  },
  {
   "cell_type": "code",
   "execution_count": 213,
   "metadata": {},
   "outputs": [
    {
     "data": {
      "text/html": [
       "<table>\n",
       "<thead><tr><th></th><th scope=col>longitude</th><th scope=col>latitude</th><th scope=col>time</th><th scope=col>weekday</th><th scope=col>hits</th><th scope=col>accuracy</th><th scope=col>bomb.id</th></tr></thead>\n",
       "<tbody>\n",
       "\t<tr><th scope=row>4</th><td>-113.9968          </td><td>46.88335           </td><td>2020-08-28 16:35:09</td><td>Friday             </td><td>1                  </td><td>0.9883019          </td><td>A                  </td></tr>\n",
       "\t<tr><th scope=row>3</th><td>-113.9975          </td><td>46.88368           </td><td>2020-08-31 15:59:23</td><td>Monday             </td><td>2                  </td><td>1.2312532          </td><td>B                  </td></tr>\n",
       "</tbody>\n",
       "</table>\n"
      ],
      "text/latex": [
       "\\begin{tabular}{r|lllllll}\n",
       "  & longitude & latitude & time & weekday & hits & accuracy & bomb.id\\\\\n",
       "\\hline\n",
       "\t4 & -113.9968           & 46.88335            & 2020-08-28 16:35:09 & Friday              & 1                   & 0.9883019           & A                  \\\\\n",
       "\t3 & -113.9975           & 46.88368            & 2020-08-31 15:59:23 & Monday              & 2                   & 1.2312532           & B                  \\\\\n",
       "\\end{tabular}\n"
      ],
      "text/markdown": [
       "\n",
       "| <!--/--> | longitude | latitude | time | weekday | hits | accuracy | bomb.id |\n",
       "|---|---|---|---|---|---|---|---|\n",
       "| 4 | -113.9968           | 46.88335            | 2020-08-28 16:35:09 | Friday              | 1                   | 0.9883019           | A                   |\n",
       "| 3 | -113.9975           | 46.88368            | 2020-08-31 15:59:23 | Monday              | 2                   | 1.2312532           | B                   |\n",
       "\n"
      ],
      "text/plain": [
       "  longitude latitude time                weekday hits accuracy  bomb.id\n",
       "4 -113.9968 46.88335 2020-08-28 16:35:09 Friday  1    0.9883019 A      \n",
       "3 -113.9975 46.88368 2020-08-31 15:59:23 Monday  2    1.2312532 B      "
      ]
     },
     "metadata": {},
     "output_type": "display_data"
    }
   ],
   "source": [
    "bomb.final <- place.bombs(bombs(df.new$longitude, df.new$latitude, df.new$time))\n",
    "bomb.final"
   ]
  },
  {
   "cell_type": "code",
   "execution_count": 214,
   "metadata": {
    "scrolled": false
   },
   "outputs": [
    {
     "data": {
      "image/png": "[encoded data removed]",
      "text/plain": [
       "plot without title"
      ]
     },
     "metadata": {},
     "output_type": "display_data"
    }
   ],
   "source": [
    "coords.bomb <- df.c.9.out\n",
    "b <- 1\n",
    "dist.vec <- rdist.earth(coords.bomb[, c(\"longitude\", \"latitude\")], bomb.final[b, c(\"longitude\", \"latitude\")])\n",
    "\n",
    "df.test.a <- coords.bomb[dist.vec <= .02,]\n",
    "\n",
    "\n",
    "plot(df.test.a$longitude, df.test.a$latitude,\n",
    "     xlim = c(-113.99712, -113.99325), ylim = c(46.88247, 46.88379), type = \"b\")\n",
    "text(df.test.a$longitude, df.test.a$latitude, labels = df.test.a$duration, pos = 4)\n",
    "\n",
    "\n",
    "points(bomb.final[b, \"longitude\"], bomb.final[b, \"latitude\"], col = \"red\", pch = 19)\n",
    "text(bomb.final[b, \"longitude\"], bomb.final[b, \"latitude\"], col = \"red\", labels = d.a, pos = 4)"
   ]
  },
  {
   "cell_type": "code",
   "execution_count": 215,
   "metadata": {},
   "outputs": [
    {
     "data": {
      "image/png": "[encoded data removed]",
      "text/plain": [
       "plot without title"
      ]
     },
     "metadata": {},
     "output_type": "display_data"
    }
   ],
   "source": [
    "coords.bomb <- df.c.11.out\n",
    "b <- 2\n",
    "dist.vec <- rdist.earth(coords.bomb[, c(\"longitude\", \"latitude\")], bomb.final[b, c(\"longitude\", \"latitude\")])\n",
    "\n",
    "df.test.a <- coords.bomb[dist.vec <= .02,]\n",
    "\n",
    "\n",
    "plot(df.test.a$longitude, df.test.a$latitude,\n",
    "     xlim = c(-113.99783, -113.99722), ylim = c(46.88232, 46.88440), type = \"b\")\n",
    "text(df.test.a$longitude, df.test.a$latitude, labels = df.test.a$duration, pos = 4)\n",
    "\n",
    "\n",
    "points(bomb.final[b, \"longitude\"], bomb.final[b, \"latitude\"], col = \"red\", pch = 19)\n",
    "text(bomb.final[b, \"longitude\"], bomb.final[b, \"latitude\"], col = \"red\", labels = d.b, pos = 4)"
   ]
  },
  {
   "cell_type": "code",
   "execution_count": 216,
   "metadata": {
    "scrolled": false
   },
   "outputs": [
    {
     "data": {
      "image/png": "[encoded data removed]",
      "text/plain": [
       "Plot with title \"Figure H2: Path B Out-Of-Sample Test\""
      ]
     },
     "metadata": {},
     "output_type": "display_data"
    }
   ],
   "source": [
    "par(mfrow = c(2,2))\n",
    "coords.bomb <- df.c.9.out\n",
    "b <- 1\n",
    "dist.vec <- rdist.earth(coords.bomb[, c(\"longitude\", \"latitude\")], bomb.final[b, c(\"longitude\", \"latitude\")])\n",
    "\n",
    "df.test.a <- coords.bomb[dist.vec <= .03,]\n",
    "\n",
    "\n",
    "plot(df.test.a$longitude, df.test.a$latitude,\n",
    "     xlim = c(-113.99712, -113.99325), ylim = c(46.88247, 46.88379), type = \"b\",\n",
    "     xlab = \"Longitude\", ylab = \"Latitude\", main = \"Figure H1: Path A Out-Of-Sample Test\")\n",
    "text(df.test.a$longitude, df.test.a$latitude, labels = df.test.a$duration, pos = 4)\n",
    "\n",
    "\n",
    "points(bomb.final[b, \"longitude\"], bomb.final[b, \"latitude\"], col = \"red\", pch = 19)\n",
    "text(bomb.final[b, \"longitude\"], bomb.final[b, \"latitude\"], col = \"red\", labels = d.a, pos = 4)\n",
    "\n",
    "coords.bomb <- df.c.11.out\n",
    "b <- 2\n",
    "dist.vec <- rdist.earth(coords.bomb[, c(\"longitude\", \"latitude\")], bomb.final[b, c(\"longitude\", \"latitude\")])\n",
    "\n",
    "df.test.a <- coords.bomb[dist.vec <= .03,]\n",
    "\n",
    "\n",
    "plot(df.test.a$longitude, df.test.a$latitude,\n",
    "     xlim = c(-113.99783, -113.99722), ylim = c(46.88232, 46.88440), type = \"b\",\n",
    "     xlab = \"Longitude\", ylab = \"Latitude\", main = \"Figure H2: Path B Out-Of-Sample Test\")\n",
    "\n",
    "text(df.test.a$longitude, df.test.a$latitude, labels = df.test.a$duration, pos = 4)\n",
    "\n",
    "\n",
    "points(bomb.final[b, \"longitude\"], bomb.final[b, \"latitude\"], col = \"red\", pch = 19)\n",
    "text(bomb.final[b, \"longitude\"], bomb.final[b, \"latitude\"], col = \"red\", labels = d.b, pos = 4)\n"
   ]
  },
  {
   "cell_type": "markdown",
   "metadata": {},
   "source": [
    "#### Testing individual days"
   ]
  },
  {
   "cell_type": "markdown",
   "metadata": {},
   "source": [
    "To do this testing, I removed the specifc dataset that I wanted to test from the regressions. Running the regression blocks determines a time to place the bomb. I use the bombs() function on the initial condition of the removed dataset to determine the position of the bomb. I then placed this point on a graph with points within a specified radius of the bomb. If the bomb was within 5 meters of the user, I considered that a hit. In some instances, if the user was walking in the direction of the bomb, within the time limit, and fairly close to the bomb (i.e. within 10 meters), I considered that a hit, as the user would have likely been in the radius of the explosion at the denoted time. An examle with dataset 8 is below."
   ]
  },
  {
   "cell_type": "code",
   "execution_count": 171,
   "metadata": {},
   "outputs": [],
   "source": [
    "#Load in data, remove outlier data\n",
    "\n",
    "df.a <- rbind(df.c.1.out, # Miss 2\n",
    "              df.c.2.out[df.c.2.out$duration < 479,], # Hit 1, Miss 1\n",
    "              df.c.3.out[df.c.3.out$duration < 486,], # Miss 2\n",
    "              df.c.4.out[df.c.4.out$duration < 507,], # Miss 2\n",
    "              df.c.7.out, # Miss 2\n",
    "              df.c.9.out[df.c.9.out$duration < 422,], # Miss 2\n",
    "              df.c.11.out[df.c.11.out$duration < 449,]) # Miss 1, Hit 1\n",
    "\n",
    "coords.a <- rbind(coords.c.1.out,\n",
    "                  coords.c.2.out[df.c.2.out$duration < 479,],\n",
    "                  coords.c.3.out[df.c.3.out$duration < 486,],\n",
    "                  coords.c.4.out[df.c.4.out$duration < 507,],\n",
    "                  coords.c.7.out,\n",
    "                  coords.c.9.out[df.c.9.out$duration < 422,],\n",
    "                  coords.c.11.out[df.c.11.out$duration < 449,])\n",
    "\n",
    "latmin <- 5196465\n",
    "latmax <- 5196600\n",
    "longmin <- 271650\n",
    "longmax <- 271950\n",
    "\n",
    "#Create a subset of the data that only includes data within specific longitude and latitude ranges\n",
    "\n",
    "df.m.a <- df.a[coords.a[,\"longitude\"] > longmin & coords.a[,\"longitude\"] < longmax & \n",
    "                           coords.a[,\"latitude\"] > latmin & coords.a[,\"latitude\"] < latmax, ]\n",
    "\n",
    "coords.m.a <- data.frame(longitude = coords.a[,\"longitude\"][coords.a[,\"longitude\"] > longmin & coords.a[,\"longitude\"] < longmax &\n",
    "                                                                      coords.a[,\"latitude\"] > latmin & coords.a[,\"latitude\"] < latmax],\n",
    "                         latitude = coords.a[,\"latitude\"][coords.a[,\"longitude\"] > longmin & coords.a[,\"longitude\"] < longmax &\n",
    "                                                                      coords.a[,\"latitude\"] > latmin & coords.a[,\"latitude\"] < latmax])\n",
    "\n",
    "#Generate longitude and latitude regressions\n",
    "\n",
    "mod.long.a <-lm(coords.m.a[,\"longitude\"] ~ duration + start.long + start.lat, data = df.m.a)\n",
    "\n",
    "\n",
    "mod.lat.a <-lm(coords.m.a[,\"latitude\"] ~ duration + start.lat + start.long, data = df.m.a)\n",
    "\n",
    "#Create a data frame of residuals; take the sum of squared residuals for each longitude-latitude pair; take the average\n",
    "#duration of the top 20% of pairs with the smallest sum of squared residuals\n",
    "\n",
    "resid.df.a <- data.frame(long.resid = mod.long.a$residuals, lat.resid = mod.lat.a$residuals)\n",
    "resid.df.a$sos <- (resid.df.a$long.resid^2) + (resid.df.a$lat.resid^2)\n",
    "resid.df.a$duration <- df.m.a$duration\n",
    "\n",
    "d.a <- mean(resid.df.a[order(resid.df.a$sos), \"duration\"][1:as.integer(.2*nrow(resid.df.a))])"
   ]
  },
  {
   "cell_type": "code",
   "execution_count": 172,
   "metadata": {},
   "outputs": [],
   "source": [
    "#Load in data, remove outlier data\n",
    "\n",
    "df.b <- rbind(df.c.5.out, # Hit 1, Miss 1\n",
    "              df.c.6.out, # Hit 1, Miss 1\n",
    "              df.c.3.out, # Miss 2\n",
    "              df.c.4.out, # Miss 2\n",
    "              df.c.2.out) # Hit 1, 1 Miss\n",
    "\n",
    "coords.b <- rbind(coords.c.5.out,\n",
    "                  coords.c.6.out,\n",
    "                  coords.c.3.out,\n",
    "                  coords.c.4.out,\n",
    "                  coords.c.2.out)\n",
    "\n",
    "latmin <- 5196450\n",
    "latmax <- 5196680\n",
    "longmin <- 271595\n",
    "longmax <- 271650\n",
    "\n",
    "#Create a subset of the data that only includes data within specific longitude and latitude ranges\n",
    "\n",
    "df.m.b <- df.b[coords.b[,\"longitude\"] > longmin & coords.b[,\"longitude\"] < longmax & \n",
    "                           coords.b[,\"latitude\"] > latmin & coords.b[,\"latitude\"] < latmax, ]\n",
    "\n",
    "coords.m.b <- data.frame(longitude = coords.b[,\"longitude\"][coords.b[,\"longitude\"] > longmin & coords.b[,\"longitude\"] < longmax &\n",
    "                                                                      coords.b[,\"latitude\"] > latmin & coords.b[,\"latitude\"] < latmax],\n",
    "                         latitude = coords.b[,\"latitude\"][coords.b[,\"longitude\"] > longmin & coords.b[,\"longitude\"] < longmax &\n",
    "                                                                      coords.b[,\"latitude\"] > latmin & coords.b[,\"latitude\"] < latmax])\n",
    "\n",
    "#Generate longitude and latitude regressions\n",
    "\n",
    "mod.long.b <-lm(coords.m.b[,\"longitude\"] ~ duration + start.long + start.lat, data = df.m.b)\n",
    "\n",
    "\n",
    "mod.lat.b <-lm(coords.m.b[,\"latitude\"] ~ duration + start.lat + start.long, data = df.m.b)\n",
    "\n",
    "#Create a data frame of residuals; take the sum of squared residuals for each longitude-latitude pair; take the average\n",
    "#duration of the top 20% of pairs with the smallest sum of squared residuals\n",
    "\n",
    "resid.df.b <- data.frame(long.resid = mod.long.b$residuals, lat.resid = mod.lat.b$residuals)\n",
    "resid.df.b$sos <- (resid.df.b$long.resid^2) + (resid.df.b$lat.resid^2)\n",
    "resid.df.b$duration <- df.m.b$duration\n",
    "\n",
    "d.b <- mean(resid.df.b[order(resid.df.b$sos), \"duration\"][1:as.integer(.3*nrow(resid.df.b))])"
   ]
  },
  {
   "cell_type": "code",
   "execution_count": 183,
   "metadata": {},
   "outputs": [
    {
     "data": {
      "text/plain": [
       "[[1]]\n",
       "[1] \"Bomb.A\"\n",
       "\n",
       "[[2]]\n",
       "[1] \"Bomb.B\"\n",
       "\n",
       "$Bomb.A\n",
       "$Bomb.A$longitude\n",
       "[1] -113.9962\n",
       "\n",
       "$Bomb.A$latitude\n",
       "[1] 46.88316\n",
       "\n",
       "$Bomb.A$time\n",
       "[1] \"2020-08-27 15:41:42 MDT\"\n",
       "\n",
       "$Bomb.A$weekday\n",
       "[1] \"Thursday\"\n",
       "\n",
       "$Bomb.A$duration\n",
       "[1] 424.4545\n",
       "\n",
       "\n",
       "$Bomb.B\n",
       "$Bomb.B$longitude\n",
       "[1] -113.9975\n",
       "\n",
       "$Bomb.B$latitude\n",
       "[1] 46.88328\n",
       "\n",
       "$Bomb.B$time\n",
       "[1] \"2020-08-27 15:40:37 MDT\"\n",
       "\n",
       "$Bomb.B$weekday\n",
       "[1] \"Thursday\"\n",
       "\n",
       "$Bomb.B$duration\n",
       "[1] 359.1538\n",
       "\n"
      ]
     },
     "metadata": {},
     "output_type": "display_data"
    }
   ],
   "source": [
    "bdf <- df.8.duration\n",
    "bomb <- bombs(bdf$longitude[1], bdf$latitude[1], bdf$time[1])\n",
    "bomb"
   ]
  },
  {
   "cell_type": "code",
   "execution_count": 174,
   "metadata": {},
   "outputs": [
    {
     "data": {
      "image/png": "[encoded data removed]",
      "text/plain": [
       "plot without title"
      ]
     },
     "metadata": {},
     "output_type": "display_data"
    }
   ],
   "source": [
    "df.bomb <- data.frame(longitude = bomb$Bomb.A$longitude, latitude = bomb$Bomb.A$latitude)\n",
    "\n",
    "coords.bomb <- df.c.8.out\n",
    "dist.vec <- rdist.earth(coords.bomb[, c(\"longitude\", \"latitude\")], df.bomb[1, c(\"longitude\", \"latitude\")])\n",
    "\n",
    "df.test <- coords.bomb[dist.vec <= .1,]\n",
    "\n",
    "# df.test\n",
    "plot(df.test$longitude,\n",
    "     df.test$latitude,\n",
    "     xlim = c(-113.99712, -113.99325), ylim = c(46.88247, 46.88379), type = \"b\")\n",
    "text(df.test$longitude,\n",
    "     df.test$latitude,\n",
    "     xlim = c(-113.99712, -113.99325), ylim = c(46.88247, 46.88379),\n",
    "     labels = df.test$duration, pos = 4)\n",
    "\n",
    "points(bomb$Bomb.A$longitude,\n",
    "       bomb$Bomb.A$latitude,\n",
    "       col = \"red\", pch = 19)\n",
    "text(bomb$Bomb.A$longitude,\n",
    "     bomb$Bomb.A$latitude,\n",
    "     col = \"red\", pch = 19,\n",
    "     labels = bomb$Bomb.A$duration, pos = 4)\n"
   ]
  },
  {
   "cell_type": "code",
   "execution_count": 180,
   "metadata": {},
   "outputs": [
    {
     "data": {
      "image/png": "[encoded data removed]",
      "text/plain": [
       "plot without title"
      ]
     },
     "metadata": {},
     "output_type": "display_data"
    }
   ],
   "source": [
    "df.bomb <- data.frame(longitude = bomb$Bomb.B$longitude, latitude = bomb$Bomb.B$latitude)\n",
    "\n",
    "coords.bomb <- df.c.8.out\n",
    "dist.vec <- rdist.earth(coords.bomb[, c(\"longitude\", \"latitude\")], df.bomb[1, c(\"longitude\", \"latitude\")])\n",
    "\n",
    "df.test <- coords.bomb[dist.vec <= .012,]\n",
    "\n",
    "plot(df.test$longitude,\n",
    "     df.test$latitude,\n",
    "     xlim = c(-113.99783, -113.99722), ylim = c(46.88232, 46.88440), type = \"b\")\n",
    "text(df.test$longitude,\n",
    "     df.test$latitude,\n",
    "     xlim = c(-113.99783, -113.99722), ylim = c(46.88232, 46.88440),\n",
    "     labels = df.test$duration, pos = 4)\n",
    "\n",
    "points(bomb$Bomb.B$longitude,\n",
    "       bomb$Bomb.B$latitude,\n",
    "       col = \"red\", pch = 19)\n",
    "text(bomb$Bomb.B$longitude,\n",
    "     bomb$Bomb.B$latitude,\n",
    "     col = \"red\", pch = 19,\n",
    "     labels = bomb$Bomb.B$duration, pos = 4)"
   ]
  },
  {
   "cell_type": "code",
   "execution_count": 185,
   "metadata": {},
   "outputs": [
    {
     "data": {
      "image/png": "[encoded data removed]",
      "text/plain": [
       "Plot with title \"Figure I2: Path B Bomb 8/27\""
      ]
     },
     "metadata": {},
     "output_type": "display_data"
    }
   ],
   "source": [
    "par(mfrow = c(2,2))\n",
    "df.bomb <- data.frame(longitude = bomb$Bomb.A$longitude, latitude = bomb$Bomb.A$latitude)\n",
    "\n",
    "coords.bomb <- df.c.8.out\n",
    "dist.vec <- rdist.earth(coords.bomb[, c(\"longitude\", \"latitude\")], df.bomb[1, c(\"longitude\", \"latitude\")])\n",
    "\n",
    "df.test <- coords.bomb[dist.vec <= .1,]\n",
    "\n",
    "# df.test\n",
    "plot(df.test$longitude,\n",
    "     df.test$latitude,\n",
    "     xlim = c(-113.99712, -113.99325), ylim = c(46.88247, 46.88379), type = \"b\",\n",
    "     xlab = \"Longitude\", ylab = \"Latitude\", main = \"Figure I1: Path A Bomb 8/27\")\n",
    "text(df.test$longitude,\n",
    "     df.test$latitude,\n",
    "     xlim = c(-113.99712, -113.99325), ylim = c(46.88247, 46.88379),\n",
    "     labels = df.test$duration, pos = 4)\n",
    "\n",
    "points(bomb$Bomb.A$longitude,\n",
    "       bomb$Bomb.A$latitude,\n",
    "       col = \"red\", pch = 19)\n",
    "text(bomb$Bomb.A$longitude,\n",
    "     bomb$Bomb.A$latitude,\n",
    "     col = \"red\", pch = 19,\n",
    "     labels = bomb$Bomb.A$duration, pos = 4)\n",
    "\n",
    "\n",
    "\n",
    "\n",
    "df.bomb <- data.frame(longitude = bomb$Bomb.B$longitude, latitude = bomb$Bomb.B$latitude)\n",
    "\n",
    "coords.bomb <- df.c.8.out\n",
    "dist.vec <- rdist.earth(coords.bomb[, c(\"longitude\", \"latitude\")], df.bomb[1, c(\"longitude\", \"latitude\")])\n",
    "\n",
    "df.test <- coords.bomb[dist.vec <= .012,]\n",
    "\n",
    "plot(df.test$longitude,\n",
    "     df.test$latitude,\n",
    "     xlim = c(-113.99783, -113.99722), ylim = c(46.88232, 46.88440), type = \"b\",\n",
    "     xlab = \"Longitude\", ylab = \"Latitude\", main = \"Figure I2: Path B Bomb 8/27\")\n",
    "\n",
    "text(df.test$longitude,\n",
    "     df.test$latitude,\n",
    "     xlim = c(-113.99783, -113.99722), ylim = c(46.88232, 46.88440),\n",
    "     labels = df.test$duration, pos = 4)\n",
    "\n",
    "points(bomb$Bomb.B$longitude,\n",
    "       bomb$Bomb.B$latitude,\n",
    "       col = \"red\", pch = 19)\n",
    "text(bomb$Bomb.B$longitude,\n",
    "     bomb$Bomb.B$latitude,\n",
    "     col = \"red\", pch = 19,\n",
    "     labels = bomb$Bomb.B$duration, pos = 4)"
   ]
  },
  {
   "cell_type": "markdown",
   "metadata": {},
   "source": [
    "## OTHER DATA VISUALIZATIONS"
   ]
  },
  {
   "cell_type": "code",
   "execution_count": 187,
   "metadata": {},
   "outputs": [
    {
     "data": {
      "image/png": "[encoded data removed]",
      "text/plain": [
       "Plot with title \"Figure A: Plot of All Data\""
      ]
     },
     "metadata": {},
     "output_type": "display_data"
    }
   ],
   "source": [
    "df.full.duration <- rbind(df.1.duration,\n",
    "                          df.2.duration,\n",
    "                          df.3.duration,\n",
    "                          df.4.duration,\n",
    "                          df.5.duration,\n",
    "                          df.6.duration,\n",
    "                          df.7.duration[1:703,],\n",
    "                          df.8.duration,\n",
    "                          df.9.duration,\n",
    "                          df.10.duration,\n",
    "                          df.11.duration)\n",
    "plot(df.full.duration$longitude, df.full.duration$latitude,\n",
    "     xlab = \"Longitude\", ylab = \"Latitude\", main = \"Figure A: Plot of All Data\")"
   ]
  },
  {
   "cell_type": "code",
   "execution_count": 189,
   "metadata": {},
   "outputs": [
    {
     "data": {
      "image/png": "[encoded data removed]",
      "text/plain": [
       "Plot with title \"Figure B2: Plot of Data Set 9\""
      ]
     },
     "metadata": {},
     "output_type": "display_data"
    }
   ],
   "source": [
    "par(mfrow=c(2,2))\n",
    "\n",
    "plot(df.1.duration$longitude, df.1.duration$latitude,\n",
    "     xlab = \"Longitude\", ylab = \"Latitude\", main = \"Figure B1: Plot of Data Set 1\")\n",
    "\n",
    "plot(df.9.duration$longitude, df.9.duration$latitude,\n",
    "     xlab = \"Longitude\", ylab = \"Latitude\", main = \"Figure B2: Plot of Data Set 9\")"
   ]
  },
  {
   "cell_type": "code",
   "execution_count": 190,
   "metadata": {},
   "outputs": [
    {
     "data": {
      "text/plain": [
       "\n",
       "15 16 17 19 \n",
       " 4  2  3  1 "
      ]
     },
     "metadata": {},
     "output_type": "display_data"
    },
    {
     "data": {
      "text/html": [
       "16.2"
      ],
      "text/latex": [
       "16.2"
      ],
      "text/markdown": [
       "16.2"
      ],
      "text/plain": [
       "[1] 16.2"
      ]
     },
     "metadata": {},
     "output_type": "display_data"
    },
    {
     "name": "stdout",
     "output_type": "stream",
     "text": [
      "[1] \"minutes\"\n"
     ]
    },
    {
     "data": {
      "text/html": [
       "46.9740740740741"
      ],
      "text/latex": [
       "46.9740740740741"
      ],
      "text/markdown": [
       "46.9740740740741"
      ],
      "text/plain": [
       "[1] 46.97407"
      ]
     },
     "metadata": {},
     "output_type": "display_data"
    },
    {
     "data": {
      "text/html": [
       "2.76445834446309"
      ],
      "text/latex": [
       "2.76445834446309"
      ],
      "text/markdown": [
       "2.76445834446309"
      ],
      "text/plain": [
       "[1] 2.764458"
      ]
     },
     "metadata": {},
     "output_type": "display_data"
    },
    {
     "data": {
      "text/html": [
       "42.9166666666667"
      ],
      "text/latex": [
       "42.9166666666667"
      ],
      "text/markdown": [
       "42.9166666666667"
      ],
      "text/plain": [
       "[1] 42.91667"
      ]
     },
     "metadata": {},
     "output_type": "display_data"
    },
    {
     "data": {
      "text/html": [
       "52.2833333333333"
      ],
      "text/latex": [
       "52.2833333333333"
      ],
      "text/markdown": [
       "52.2833333333333"
      ],
      "text/plain": [
       "[1] 52.28333"
      ]
     },
     "metadata": {},
     "output_type": "display_data"
    },
    {
     "name": "stdout",
     "output_type": "stream",
     "text": [
      "[1] \"seconds\"\n"
     ]
    },
    {
     "data": {
      "text/html": [
       "58.444444444446"
      ],
      "text/latex": [
       "58.444444444446"
      ],
      "text/markdown": [
       "58.444444444446"
      ],
      "text/plain": [
       "[1] 58.44444"
      ]
     },
     "metadata": {},
     "output_type": "display_data"
    },
    {
     "data": {
      "text/html": [
       "45.8675006677854"
      ],
      "text/latex": [
       "45.8675006677854"
      ],
      "text/markdown": [
       "45.8675006677854"
      ],
      "text/plain": [
       "[1] 45.8675"
      ]
     },
     "metadata": {},
     "output_type": "display_data"
    },
    {
     "data": {
      "text/html": [
       "55.000000000002"
      ],
      "text/latex": [
       "55.000000000002"
      ],
      "text/markdown": [
       "55.000000000002"
      ],
      "text/plain": [
       "[1] 55"
      ]
     },
     "metadata": {},
     "output_type": "display_data"
    },
    {
     "data": {
      "text/html": [
       "16.999999999998"
      ],
      "text/latex": [
       "16.999999999998"
      ],
      "text/markdown": [
       "16.999999999998"
      ],
      "text/plain": [
       "[1] 17"
      ]
     },
     "metadata": {},
     "output_type": "display_data"
    }
   ],
   "source": [
    "# Analyzing outbound times\n",
    "df.first.out <- rbind(df.1.out[1,],\n",
    "                      df.2.out[1,],\n",
    "                      df.3.out[1,],\n",
    "                      df.4.out[1,],\n",
    "                      df.5.out[1,],\n",
    "                      df.6.out[1,],\n",
    "                      df.7.out[1,],\n",
    "                      df.8.out[1,],\n",
    "                      df.9.out[1,],\n",
    "                      df.11.out[1,])\n",
    "\n",
    "table(df.first.out$hour)\n",
    "mean(df.first.out$hour)\n",
    "\n",
    "\n",
    "df.last.out <- rbind(df.1.out[nrow(df.1.out),],\n",
    "                     df.2.out[nrow(df.2.out),],\n",
    "                     df.3.out[nrow(df.3.out),],\n",
    "                     df.4.out[nrow(df.4.out),],\n",
    "                     df.5.out[nrow(df.5.out),],\n",
    "                     df.6.out[nrow(df.6.out),],\n",
    "                     df.7.out[nrow(df.7.out),],\n",
    "                     df.8.out[nrow(df.8.out),],\n",
    "                     df.11.out[nrow(df.11.out),])\n",
    "\n",
    "\n",
    "print(\"minutes\")\n",
    "mean(df.last.out$duration)/60\n",
    "sd(df.last.out$duration)/60\n",
    "min(df.last.out$duration)/60\n",
    "max(df.last.out$duration)/60\n",
    "print(\"seconds\")\n",
    "60*.9740740740741\n",
    "60*.76445834446309\n",
    "60*.9166666666667\n",
    "60*.2833333333333\n"
   ]
  },
  {
   "cell_type": "code",
   "execution_count": 191,
   "metadata": {},
   "outputs": [
    {
     "data": {
      "text/plain": [
       "\n",
       "-2 19 20 21 \n",
       " 1  1  4  4 "
      ]
     },
     "metadata": {},
     "output_type": "display_data"
    },
    {
     "data": {
      "text/html": [
       "18.1"
      ],
      "text/latex": [
       "18.1"
      ],
      "text/markdown": [
       "18.1"
      ],
      "text/plain": [
       "[1] 18.1"
      ]
     },
     "metadata": {},
     "output_type": "display_data"
    },
    {
     "data": {
      "text/html": [
       "<ol class=list-inline>\n",
       "\t<li>20</li>\n",
       "\t<li>21</li>\n",
       "\t<li>-2</li>\n",
       "\t<li>21</li>\n",
       "\t<li>20</li>\n",
       "\t<li>19</li>\n",
       "\t<li>21</li>\n",
       "\t<li>20</li>\n",
       "\t<li>21</li>\n",
       "\t<li>20</li>\n",
       "</ol>\n"
      ],
      "text/latex": [
       "\\begin{enumerate*}\n",
       "\\item 20\n",
       "\\item 21\n",
       "\\item -2\n",
       "\\item 21\n",
       "\\item 20\n",
       "\\item 19\n",
       "\\item 21\n",
       "\\item 20\n",
       "\\item 21\n",
       "\\item 20\n",
       "\\end{enumerate*}\n"
      ],
      "text/markdown": [
       "1. 20\n",
       "2. 21\n",
       "3. -2\n",
       "4. 21\n",
       "5. 20\n",
       "6. 19\n",
       "7. 21\n",
       "8. 20\n",
       "9. 21\n",
       "10. 20\n",
       "\n",
       "\n"
      ],
      "text/plain": [
       " [1] 20 21 -2 21 20 19 21 20 21 20"
      ]
     },
     "metadata": {},
     "output_type": "display_data"
    },
    {
     "name": "stdout",
     "output_type": "stream",
     "text": [
      "[1] \"minutes\"\n"
     ]
    },
    {
     "data": {
      "text/html": [
       "44.26875"
      ],
      "text/latex": [
       "44.26875"
      ],
      "text/markdown": [
       "44.26875"
      ],
      "text/plain": [
       "[1] 44.26875"
      ]
     },
     "metadata": {},
     "output_type": "display_data"
    },
    {
     "data": {
      "text/html": [
       "1.51933145019629"
      ],
      "text/latex": [
       "1.51933145019629"
      ],
      "text/markdown": [
       "1.51933145019629"
      ],
      "text/plain": [
       "[1] 1.519331"
      ]
     },
     "metadata": {},
     "output_type": "display_data"
    },
    {
     "data": {
      "text/html": [
       "42"
      ],
      "text/latex": [
       "42"
      ],
      "text/markdown": [
       "42"
      ],
      "text/plain": [
       "[1] 42"
      ]
     },
     "metadata": {},
     "output_type": "display_data"
    },
    {
     "data": {
      "text/html": [
       "45.9833333333333"
      ],
      "text/latex": [
       "45.9833333333333"
      ],
      "text/markdown": [
       "45.9833333333333"
      ],
      "text/plain": [
       "[1] 45.98333"
      ]
     },
     "metadata": {},
     "output_type": "display_data"
    },
    {
     "name": "stdout",
     "output_type": "stream",
     "text": [
      "[1] \"seconds\"\n"
     ]
    },
    {
     "data": {
      "text/html": [
       "16.125"
      ],
      "text/latex": [
       "16.125"
      ],
      "text/markdown": [
       "16.125"
      ],
      "text/plain": [
       "[1] 16.125"
      ]
     },
     "metadata": {},
     "output_type": "display_data"
    },
    {
     "data": {
      "text/html": [
       "31.1598870117774"
      ],
      "text/latex": [
       "31.1598870117774"
      ],
      "text/markdown": [
       "31.1598870117774"
      ],
      "text/plain": [
       "[1] 31.15989"
      ]
     },
     "metadata": {},
     "output_type": "display_data"
    },
    {
     "data": {
      "text/html": [
       "0"
      ],
      "text/latex": [
       "0"
      ],
      "text/markdown": [
       "0"
      ],
      "text/plain": [
       "[1] 0"
      ]
     },
     "metadata": {},
     "output_type": "display_data"
    },
    {
     "data": {
      "text/html": [
       "58.999999999998"
      ],
      "text/latex": [
       "58.999999999998"
      ],
      "text/markdown": [
       "58.999999999998"
      ],
      "text/plain": [
       "[1] 59"
      ]
     },
     "metadata": {},
     "output_type": "display_data"
    }
   ],
   "source": [
    "# Analyzing Inbound times\n",
    "df.first.in <- rbind(df.1.in[1,],\n",
    "                     df.2.in[1,],\n",
    "                     df.3.in[1,],\n",
    "                     df.4.in[1,],\n",
    "                     df.5.in[1,],\n",
    "                     df.6.in[1,],\n",
    "                     df.7.in[1,],\n",
    "                     df.8.in[1,],\n",
    "                     df.10.in[1,],\n",
    "                     df.11.in[1,])\n",
    "\n",
    "table(df.first.in$hour)\n",
    "mean(df.first.in$hour)\n",
    "\n",
    "df.first.in$hour\n",
    "\n",
    "df.last.in <- rbind(df.2.in[nrow(df.2.in),],\n",
    "                    df.4.in[nrow(df.4.in),],\n",
    "                    df.5.in[nrow(df.5.in),],\n",
    "                    df.6.in[nrow(df.6.in),],\n",
    "                    df.7.in[nrow(df.7.in),],\n",
    "                    df.8.in[nrow(df.8.in),],\n",
    "                    df.10.in[nrow(df.10.in),],\n",
    "                    df.11.in[nrow(df.11.in),])\n",
    "\n",
    "\n",
    "print(\"minutes\")\n",
    "mean(df.last.in$duration)/60\n",
    "sd(df.last.in$duration)/60\n",
    "min(df.last.in$duration)/60\n",
    "max(df.last.in$duration)/60\n",
    "print(\"seconds\")\n",
    "60*.26875\n",
    "60*.51933145019629\n",
    "60*0\n",
    "60*.9833333333333\n",
    "\n",
    "# df.last.in"
   ]
  },
  {
   "cell_type": "code",
   "execution_count": 192,
   "metadata": {},
   "outputs": [
    {
     "data": {
      "text/html": [
       "0.801728395061729"
      ],
      "text/latex": [
       "0.801728395061729"
      ],
      "text/markdown": [
       "0.801728395061729"
      ],
      "text/plain": [
       "[1] 0.8017284"
      ]
     },
     "metadata": {},
     "output_type": "display_data"
    },
    {
     "data": {
      "text/html": [
       "8.46425035326704"
      ],
      "text/latex": [
       "8.46425035326704"
      ],
      "text/markdown": [
       "8.46425035326704"
      ],
      "text/plain": [
       "[1] 8.46425"
      ]
     },
     "metadata": {},
     "output_type": "display_data"
    },
    {
     "data": {
      "text/html": [
       "28.1037037037034"
      ],
      "text/latex": [
       "28.1037037037034"
      ],
      "text/markdown": [
       "28.1037037037034"
      ],
      "text/plain": [
       "[1] 28.1037"
      ]
     },
     "metadata": {},
     "output_type": "display_data"
    },
    {
     "data": {
      "text/html": [
       "57.9084555197167"
      ],
      "text/latex": [
       "57.9084555197167"
      ],
      "text/markdown": [
       "57.9084555197167"
      ],
      "text/plain": [
       "[1] 57.90846"
      ]
     },
     "metadata": {},
     "output_type": "display_data"
    }
   ],
   "source": [
    "# Comparing the time of arrival at the destination to the time of departure home\n",
    "df.first.in <- rbind(df.1.in[1,],\n",
    "                     df.2.in[1,],\n",
    "                     df.3.in[1,],\n",
    "                     df.4.in[1,],\n",
    "                     df.5.in[1,],\n",
    "                     df.6.in[1,],\n",
    "                     df.7.in[1,],\n",
    "                     df.8.in[1,],\n",
    "                     df.11.in[1,])\n",
    "\n",
    "outin <- data.frame(outbound = df.last.out$time.reduced, inbound = df.first.in$time.reduced)\n",
    "outin$t <- outin$inbound - outin$outbound\n",
    "mean(outin$t)\n",
    "sd(outin$t)\n",
    "# plot(outin$outbound, outin$inbound)\n",
    "# abline\n",
    "60*.46839506172839\n",
    "60*.965140925328612"
   ]
  },
  {
   "cell_type": "code",
   "execution_count": 193,
   "metadata": {},
   "outputs": [
    {
     "data": {
      "image/png": "[encoded data removed]",
      "text/plain": [
       "Plot with title \"Figure G: Two Bomb Paths\""
      ]
     },
     "metadata": {},
     "output_type": "display_data"
    }
   ],
   "source": [
    "# All data in beginning\n",
    "df.a <- rbind(df.c.1.out,\n",
    "              df.c.2.out[df.c.2.out$duration < 479,], \n",
    "              df.c.3.out[df.c.3.out$duration < 486,], \n",
    "              df.c.4.out[df.c.4.out$duration < 507,], \n",
    "              df.c.7.out, \n",
    "              df.c.9.out[df.c.9.out$duration < 422,], \n",
    "              df.c.11.out[df.c.11.out$duration < 449,])\n",
    "\n",
    "df.b <- rbind(df.c.5.out, \n",
    "              df.c.6.out, \n",
    "              df.c.8.out) \n",
    "\n",
    "plot(df.a$longitude, df.a$latitude, col = \"red\",\n",
    "     xlim = c(-113.99783, -113.994), ylim = c(46.88232, 46.88440),\n",
    "     xlab = \"Longitude\", ylab = \"Latitude\", main = \"Figure G: Two Bomb Paths\")\n",
    "points(df.b$longitude, df.b$latitude, col = \"blue\")\n",
    "#      xlim = c(-113.99712, -113.99325), ylim = c(46.88247, 46.88379), type = \"b\")\n",
    "#      xlim = c(-113.99783, -113.99722), ylim = c(46.88232, 46.88440), type = \"b\")\n"
   ]
  },
  {
   "cell_type": "code",
   "execution_count": 201,
   "metadata": {},
   "outputs": [
    {
     "data": {
      "text/html": [
       "1.04789058786124e-15"
      ],
      "text/latex": [
       "1.04789058786124e-15"
      ],
      "text/markdown": [
       "1.04789058786124e-15"
      ],
      "text/plain": [
       "[1] 1.047891e-15"
      ]
     },
     "metadata": {},
     "output_type": "display_data"
    },
    {
     "data": {
      "text/html": [
       "1.86174051692969e-16"
      ],
      "text/latex": [
       "1.86174051692969e-16"
      ],
      "text/markdown": [
       "1.86174051692969e-16"
      ],
      "text/plain": [
       "[1] 1.861741e-16"
      ]
     },
     "metadata": {},
     "output_type": "display_data"
    },
    {
     "data": {
      "text/html": [
       "3.35652627285701e-17"
      ],
      "text/latex": [
       "3.35652627285701e-17"
      ],
      "text/markdown": [
       "3.35652627285701e-17"
      ],
      "text/plain": [
       "[1] 3.356526e-17"
      ]
     },
     "metadata": {},
     "output_type": "display_data"
    },
    {
     "data": {
      "text/html": [
       "2.36806119786645e-17"
      ],
      "text/latex": [
       "2.36806119786645e-17"
      ],
      "text/markdown": [
       "2.36806119786645e-17"
      ],
      "text/plain": [
       "[1] 2.368061e-17"
      ]
     },
     "metadata": {},
     "output_type": "display_data"
    },
    {
     "data": {
      "image/png": "[encoded data removed]",
      "text/plain": [
       "Plot with title \"Figure H4: Red Path Latitude Residuals\""
      ]
     },
     "metadata": {},
     "output_type": "display_data"
    }
   ],
   "source": [
    "#Residual Plots for each path\n",
    "par(mfrow = c(2,2))\n",
    "plot(mod.long.a$fitted.values, mod.long.a$residuals,\n",
    "     xlab = \"Fitted Values\", ylab = \"Residuals\", main = \"Figure H1: Blue Path Longitude Residuals\")\n",
    "plot(mod.lat.a$fitted.values, mod.lat.a$residuals,\n",
    "     xlab = \"Fitted Values\", ylab = \"Residuals\", main = \"Figure H2: Blue Path Latitude Residuals\")\n",
    "plot(mod.long.b$fitted.values, mod.long.b$residuals,\n",
    "     xlab = \"Fitted Values\", ylab = \"Residuals\", main = \"Figure H3: Red Path Longitude Residuals\")\n",
    "plot(mod.lat.b$fitted.values, mod.lat.b$residuals,\n",
    "     xlab = \"Fitted Values\", ylab = \"Residuals\", main = \"Figure H4: Red Path Latitude Residuals\")\n",
    "\n",
    "mean(mod.long.a$residuals)\n",
    "mean(mod.lat.a$residuals)\n",
    "mean(mod.long.b$residuals)\n",
    "mean(mod.lat.b$residuals)"
   ]
  }
 ],
 "metadata": {
  "kernelspec": {
   "display_name": "R",
   "language": "R",
   "name": "ir"
  },
  "language_info": {
   "codemirror_mode": "r",
   "file_extension": ".r",
   "mimetype": "text/x-r-source",
   "name": "R",
   "pygments_lexer": "r",
   "version": "3.6.1"
  }
 },
 "nbformat": 4,
 "nbformat_minor": 4
}
